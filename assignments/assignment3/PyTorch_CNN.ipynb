{
 "cells": [
  {
   "cell_type": "markdown",
   "metadata": {
    "id": "vbmqpIcRekjk"
   },
   "source": [
    "# Задание 3.2 - сверточные нейронные сети (CNNs) в PyTorch\n",
    "\n",
    "Это упражнение мы буде выполнять в Google Colab - https://colab.research.google.com/  \n",
    "Google Colab позволяет запускать код в notebook в облаке Google, где можно воспользоваться бесплатным GPU!  \n",
    "\n",
    "Авторы курса благодарят компанию Google и надеятся, что праздник не закончится.\n",
    "\n",
    "Туториал по настройке Google Colab:  \n",
    "https://medium.com/deep-learning-turkey/google-colab-free-gpu-tutorial-e113627b9f5d  \n",
    "(Keras инсталлировать не нужно, наш notebook сам установит PyTorch)\n"
   ]
  },
  {
   "cell_type": "code",
   "execution_count": 1,
   "metadata": {
    "colab": {
     "base_uri": "https://localhost:8080/"
    },
    "id": "FcXBeP1O7cnY",
    "outputId": "81e0c520-5392-4d6d-b688-f5a52c5d35df"
   },
   "outputs": [
    {
     "name": "stdout",
     "output_type": "stream",
     "text": [
      "Requirement already satisfied: torch in e:\\m\\prog\\anaconda\\envs\\dl\\lib\\site-packages (1.11.0)\n",
      "Requirement already satisfied: torchvision in e:\\m\\prog\\anaconda\\envs\\dl\\lib\\site-packages (0.12.0)\n",
      "Requirement already satisfied: typing_extensions in e:\\m\\prog\\anaconda\\envs\\dl\\lib\\site-packages (from torch) (4.1.1)\n",
      "Requirement already satisfied: numpy in e:\\m\\prog\\anaconda\\envs\\dl\\lib\\site-packages (from torchvision) (1.21.5)\n",
      "Requirement already satisfied: requests in e:\\m\\prog\\anaconda\\envs\\dl\\lib\\site-packages (from torchvision) (2.27.1)\n",
      "Requirement already satisfied: pillow!=8.3.*,>=5.3.0 in e:\\m\\prog\\anaconda\\envs\\dl\\lib\\site-packages (from torchvision) (9.0.1)\n",
      "Requirement already satisfied: certifi>=2017.4.17 in e:\\m\\prog\\anaconda\\envs\\dl\\lib\\site-packages (from requests->torchvision) (2021.10.8)\n",
      "Requirement already satisfied: idna<4,>=2.5 in e:\\m\\prog\\anaconda\\envs\\dl\\lib\\site-packages (from requests->torchvision) (3.3)\n",
      "Requirement already satisfied: charset-normalizer~=2.0.0 in e:\\m\\prog\\anaconda\\envs\\dl\\lib\\site-packages (from requests->torchvision) (2.0.4)\n",
      "Requirement already satisfied: urllib3<1.27,>=1.21.1 in e:\\m\\prog\\anaconda\\envs\\dl\\lib\\site-packages (from requests->torchvision) (1.26.9)\n"
     ]
    },
    {
     "name": "stderr",
     "output_type": "stream",
     "text": [
      "\"wget\" ­Ґ пў«пҐвбп ў­гваҐ­­Ґ© Ё«Ё ў­Ґи­Ґ©\n",
      "Є®¬ ­¤®©, ЁбЇ®«­пҐ¬®© Їа®Ја ¬¬®© Ё«Ё Ї ЄҐв­л¬ д ©«®¬.\n"
     ]
    }
   ],
   "source": [
    "# Intstall PyTorch and download data\n",
    "!pip3 install torch torchvision\n",
    "\n",
    "!wget -c http://ufldl.stanford.edu/housenumbers/train_32x32.mat http://ufldl.stanford.edu/housenumbers/test_32x32.mat"
   ]
  },
  {
   "cell_type": "code",
   "execution_count": 2,
   "metadata": {
    "id": "-afwWw-Q85vD"
   },
   "outputs": [],
   "source": [
    "from collections import namedtuple\n",
    "\n",
    "import matplotlib.pyplot as plt\n",
    "import numpy as np\n",
    "import PIL\n",
    "import torch\n",
    "import torch.nn as nn\n",
    "import torch.optim as optim\n",
    "import torchvision.datasets as dset\n",
    "from torch.utils.data.sampler import SubsetRandomSampler\n",
    "\n",
    "from torchvision import transforms"
   ]
  },
  {
   "cell_type": "code",
   "execution_count": 3,
   "metadata": {
    "id": "NNU-OD9O9ltP"
   },
   "outputs": [],
   "source": [
    "device = torch.device(\"cuda:0\") # Let's make sure GPU is available!"
   ]
  },
  {
   "cell_type": "markdown",
   "metadata": {
    "id": "Rf478_wnekjy"
   },
   "source": [
    "# Загружаем данные"
   ]
  },
  {
   "cell_type": "code",
   "execution_count": 4,
   "metadata": {
    "id": "YAvkoRx-9FsP"
   },
   "outputs": [],
   "source": [
    "# First, lets load the dataset\n",
    "data_train = dset.SVHN('./', \n",
    "                       transform=transforms.Compose([\n",
    "                           transforms.ToTensor(),\n",
    "                           transforms.Normalize(mean=[0.43,0.44,0.47],\n",
    "                                               std=[0.20,0.20,0.20])                           \n",
    "                       ])\n",
    "                      )\n",
    "data_test = dset.SVHN('./', split='test', transform=transforms.Compose([\n",
    "                           transforms.ToTensor(),\n",
    "                           transforms.Normalize(mean=[0.43,0.44,0.47],\n",
    "                                               std=[0.20,0.20,0.20])                           \n",
    "                       ]))"
   ]
  },
  {
   "cell_type": "markdown",
   "metadata": {
    "id": "XEVlru4Rekj1"
   },
   "source": [
    "Разделяем данные на training и validation.\n",
    "\n",
    "На всякий случай для подробностей - https://pytorch.org/tutorials/beginner/data_loading_tutorial.html"
   ]
  },
  {
   "cell_type": "code",
   "execution_count": 5,
   "metadata": {
    "id": "YRnr8CPg7Hli"
   },
   "outputs": [],
   "source": [
    "batch_size = 64\n",
    "\n",
    "data_size = data_train.data.shape[0]\n",
    "validation_split = .2\n",
    "split = int(np.floor(validation_split * data_size))\n",
    "indices = list(range(data_size))\n",
    "np.random.shuffle(indices)\n",
    "\n",
    "train_indices, val_indices = indices[split:], indices[:split]\n",
    "\n",
    "train_sampler = SubsetRandomSampler(train_indices)\n",
    "val_sampler = SubsetRandomSampler(val_indices)\n",
    "\n",
    "train_loader = torch.utils.data.DataLoader(data_train, batch_size=batch_size, \n",
    "                                           sampler=train_sampler)\n",
    "val_loader = torch.utils.data.DataLoader(data_train, batch_size=batch_size,\n",
    "                                         sampler=val_sampler)"
   ]
  },
  {
   "cell_type": "code",
   "execution_count": 6,
   "metadata": {
    "id": "LyYvt-T67PBG"
   },
   "outputs": [],
   "source": [
    "# We'll use a special helper module to shape it into a flat tensor\n",
    "class Flattener(nn.Module):\n",
    "    def forward(self, x):\n",
    "        batch_size, *_ = x.shape\n",
    "        return x.view(batch_size, -1)"
   ]
  },
  {
   "cell_type": "markdown",
   "metadata": {
    "id": "kJHzMSp2ekj4"
   },
   "source": [
    "Создадим простейшую сеть с новыми слоями:  \n",
    "Convolutional - `nn.Conv2d`  \n",
    "MaxPool - `nn.MaxPool2d`"
   ]
  },
  {
   "cell_type": "code",
   "execution_count": 7,
   "metadata": {
    "id": "w9SFVGZP7SQd"
   },
   "outputs": [],
   "source": [
    "nn_model = nn.Sequential(\n",
    "            nn.Conv2d(3, 64, 3, padding=1),\n",
    "            nn.ReLU(inplace=True),\n",
    "            nn.MaxPool2d(4),\n",
    "            nn.Conv2d(64, 64, 3, padding=1),\n",
    "            nn.ReLU(inplace=True),\n",
    "            nn.MaxPool2d(4),    \n",
    "            Flattener(),\n",
    "            nn.Linear(64*2*2, 10),\n",
    "          )\n",
    "\n",
    "nn_model.type(torch.cuda.FloatTensor)\n",
    "nn_model.to(device)\n",
    "\n",
    "loss = nn.CrossEntropyLoss().type(torch.cuda.FloatTensor)\n",
    "optimizer = optim.SGD(nn_model.parameters(), lr=1e-1, weight_decay=1e-4)"
   ]
  },
  {
   "cell_type": "markdown",
   "metadata": {
    "id": "CTbsnsk6ekj6"
   },
   "source": [
    "Восстановите функцию `compute_accuracy` из прошлого задания.  \n",
    "Единственное отличие в новом - она должна передать данные на GPU прежде чем прогонять через модель. Сделайте это так же, как это делает функция `train_model`"
   ]
  },
  {
   "cell_type": "code",
   "execution_count": 8,
   "metadata": {
    "colab": {
     "base_uri": "https://localhost:8080/"
    },
    "id": "2ek3KVQK7hJ6",
    "outputId": "e3ade8de-3873-4e03-806e-2552da8db1fb"
   },
   "outputs": [
    {
     "name": "stdout",
     "output_type": "stream",
     "text": [
      "Average loss: 1.442298, Train accuracy: 0.516398, Val accuracy: 0.750870\n",
      "Average loss: 0.730801, Train accuracy: 0.776866, Val accuracy: 0.776807\n",
      "Average loss: 0.617341, Train accuracy: 0.814541, Val accuracy: 0.827657\n",
      "Average loss: 0.559152, Train accuracy: 0.834880, Val accuracy: 0.820012\n",
      "Average loss: 0.527474, Train accuracy: 0.842968, Val accuracy: 0.833185\n"
     ]
    }
   ],
   "source": [
    "def train_model(model, train_loader, val_loader, loss, optimizer, num_epochs, scheduler=None):    \n",
    "    loss_history = []\n",
    "    train_history = []\n",
    "    val_history = []\n",
    "    for epoch in range(num_epochs):\n",
    "        model.train() # Enter train mode\n",
    "        \n",
    "        loss_accum = 0\n",
    "        correct_samples = 0\n",
    "        total_samples = 0\n",
    "        for i_step, (x, y) in enumerate(train_loader):\n",
    "          \n",
    "            x_gpu = x.to(device)\n",
    "            y_gpu = y.to(device)\n",
    "            prediction = model(x_gpu)    \n",
    "            loss_value = loss(prediction, y_gpu)\n",
    "            optimizer.zero_grad()\n",
    "            loss_value.backward()\n",
    "            optimizer.step()\n",
    "            \n",
    "            _, indices = torch.max(prediction, 1)\n",
    "            correct_samples += torch.sum(indices == y_gpu)\n",
    "            total_samples += y.shape[0]\n",
    "            \n",
    "            loss_accum += loss_value\n",
    "\n",
    "        ave_loss = loss_accum / i_step\n",
    "        train_accuracy = float(correct_samples) / total_samples\n",
    "        val_accuracy = compute_accuracy(model, val_loader)\n",
    "        \n",
    "        if scheduler is not None:\n",
    "            scheduler.step(ave_loss)\n",
    "        \n",
    "        loss_history.append(float(ave_loss))\n",
    "        train_history.append(train_accuracy)\n",
    "        val_history.append(val_accuracy)\n",
    "        \n",
    "        print(\"Average loss: %f, Train accuracy: %f, Val accuracy: %f\" % (ave_loss, train_accuracy, val_accuracy))\n",
    "        \n",
    "    return loss_history, train_history, val_history\n",
    "        \n",
    "def compute_accuracy(model, loader):\n",
    "    \"\"\"\n",
    "    Computes accuracy on the dataset wrapped in a loader\n",
    "    \n",
    "    Returns: accuracy as a float value between 0 and 1\n",
    "    \"\"\"\n",
    "    model.eval() # Evaluation mode\n",
    "    # TODO: Copy implementation from previous assignment\n",
    "    # Don't forget to move the data to device before running it through the model!\n",
    "    \n",
    "    correct_samples = 0\n",
    "    total_samples = 0\n",
    "    for i_step, (x, y) in enumerate(loader):\n",
    "        x_gpu = x.to(device)\n",
    "        y_gpu = y.to(device)\n",
    "        prediction = model(x_gpu)\n",
    "        compare = torch.argmax(prediction, 1) == y_gpu\n",
    "        correct_samples += compare.count_nonzero()\n",
    "        total_samples += y_gpu.shape[0]\n",
    "    \n",
    "    return float(correct_samples) / total_samples\n",
    "\n",
    "loss_history, train_history, val_history = train_model(nn_model, train_loader, val_loader, loss, optimizer, 5)"
   ]
  },
  {
   "cell_type": "markdown",
   "metadata": {
    "id": "6a-3a1ZFGEw_"
   },
   "source": [
    "# Аугментация данных (Data augmentation)\n",
    "\n",
    "В работе с изображениями одним из особенно важных методов является аугментация данных - то есть, генерация дополнительных данных для тренировки на основе изначальных.   \n",
    "Таким образом, мы получаем возможность \"увеличить\" набор данных для тренировки, что ведет к лучшей работе сети.\n",
    "Важно, чтобы аугментированные данные были похожи на те, которые могут встретиться в реальной жизни, иначе польза от аугментаций уменьшается и может ухудшить работу сети.\n",
    "\n",
    "С PyTorch идут несколько таких алгоритмов, называемых `transforms`. Более подробно про них можно прочитать тут -\n",
    "https://pytorch.org/tutorials/beginner/data_loading_tutorial.html#transforms\n",
    "\n",
    "Ниже мы используем следующие алгоритмы генерации:\n",
    "- ColorJitter - случайное изменение цвета\n",
    "- RandomHorizontalFlip - горизонтальное отражение с вероятностью 50%\n",
    "- RandomVerticalFlip - вертикальное отражение с вероятностью 50%\n",
    "- RandomRotation - случайный поворот"
   ]
  },
  {
   "cell_type": "code",
   "execution_count": 9,
   "metadata": {
    "colab": {
     "base_uri": "https://localhost:8080/"
    },
    "id": "jCWMUWmr7t5g",
    "outputId": "74086bce-6bf6-4153-cf9d-4775338b8120"
   },
   "outputs": [
    {
     "name": "stderr",
     "output_type": "stream",
     "text": [
      "E:\\m\\Prog\\Anaconda\\envs\\dl\\lib\\site-packages\\torchvision\\transforms\\transforms.py:1292: UserWarning: The parameter 'resample' is deprecated since 0.12 and will be removed 0.14. Please use 'interpolation' instead.\n",
      "  warnings.warn(\n"
     ]
    }
   ],
   "source": [
    "tfs = transforms.Compose([\n",
    "    transforms.ColorJitter(hue=.50, saturation=.50),\n",
    "    transforms.RandomHorizontalFlip(),\n",
    "    transforms.RandomVerticalFlip(),\n",
    "    transforms.RandomRotation(50, resample=PIL.Image.BILINEAR),\n",
    "    transforms.ToTensor(),\n",
    "    transforms.Normalize(mean=[0.43,0.44,0.47],\n",
    "                       std=[0.20,0.20,0.20])                           \n",
    "])\n",
    "\n",
    "# Create augmented train dataset\n",
    "data_aug_train = dset.SVHN('./', \n",
    "                       transform=tfs\n",
    "                      )\n",
    "\n",
    "train_aug_loader = torch.utils.data.DataLoader(data_aug_train, batch_size=batch_size, \n",
    "                                           sampler=train_sampler)"
   ]
  },
  {
   "cell_type": "markdown",
   "metadata": {
    "id": "0ytKAayWekj9"
   },
   "source": [
    "Визуализируем результаты агментации (вообще, смотреть на сгенерированные данные всегда очень полезно)."
   ]
  },
  {
   "cell_type": "code",
   "execution_count": 10,
   "metadata": {
    "colab": {
     "base_uri": "https://localhost:8080/",
     "height": 190
    },
    "id": "YlJJEro1KZ45",
    "outputId": "61d7940f-d2c4-4495-de1f-94797100b963"
   },
   "outputs": [
    {
     "data": {
      "image/png": "[encoded data removed]",
      "text/plain": [
       "<Figure size 2160x216 with 10 Axes>"
      ]
     },
     "metadata": {
      "needs_background": "light"
     },
     "output_type": "display_data"
    }
   ],
   "source": [
    "# TODO: Visualize some augmented images!\n",
    "# hint: you can create new datasets and loaders to accomplish this\n",
    "\n",
    "# Based on the visualizations, should we keep all the augmentations?\n",
    "\n",
    "tfs = transforms.Compose([\n",
    "    transforms.ColorJitter(hue=.20, saturation=.20),\n",
    "    transforms.RandomHorizontalFlip(),\n",
    "    transforms.RandomVerticalFlip(),\n",
    "    transforms.RandomRotation(10, resample=PIL.Image.BILINEAR),\n",
    "])\n",
    "\n",
    "data_aug_vis = dset.SVHN('./', \n",
    "                       transform=tfs\n",
    "                      )\n",
    "\n",
    "plt.figure(figsize=(30, 3))\n",
    "\n",
    "for i, (x, y) in enumerate(data_aug_vis):\n",
    "    if i == 10:\n",
    "        break\n",
    "    plt.subplot(1, 10, i+1)\n",
    "    plt.grid(False)\n",
    "    plt.imshow(x)\n",
    "    plt.axis('off')"
   ]
  },
  {
   "cell_type": "markdown",
   "metadata": {
    "id": "o2LrmsYHoguB"
   },
   "source": [
    "Все ли агментации одинаково полезны на этом наборе данных? Могут ли быть среди них те, которые собьют модель с толку?\n",
    "\n",
    "Выберите из них только корректные"
   ]
  },
  {
   "cell_type": "code",
   "execution_count": 11,
   "metadata": {
    "colab": {
     "base_uri": "https://localhost:8080/",
     "height": 190
    },
    "id": "evro9ksXGs9u",
    "outputId": "fdaf4508-07dc-46d5-9bd1-5f57841f9d37"
   },
   "outputs": [
    {
     "data": {
      "image/png": "[encoded data removed]",
      "text/plain": [
       "<Figure size 2160x216 with 10 Axes>"
      ]
     },
     "metadata": {
      "needs_background": "light"
     },
     "output_type": "display_data"
    }
   ],
   "source": [
    "# TODO: \n",
    "tfs = transforms.Compose([\n",
    "    # TODO: Add good augmentations\n",
    "    transforms.ColorJitter(hue=.20, saturation=.20),\n",
    "    transforms.RandomRotation(10, resample=PIL.Image.BILINEAR),\n",
    "    # transforms.ToTensor(),\n",
    "    # transforms.Normalize(\n",
    "    #     mean=[0.43,0.44,0.47],\n",
    "    #     std=[0.20,0.20,0.20],\n",
    "    # ),\n",
    "])\n",
    "\n",
    "# TODO create new instances of loaders with the augmentations you chose\n",
    "train_aug_loader = None\n",
    "\n",
    "data_aug_vis = dset.SVHN(\n",
    "    './',\n",
    "    transform=tfs\n",
    ")\n",
    "\n",
    "plt.figure(figsize=(30, 3))\n",
    "\n",
    "for i, (x, y) in enumerate(data_aug_vis):\n",
    "    if i == 10:\n",
    "        break\n",
    "    plt.subplot(1, 10, i+1)\n",
    "    plt.grid(False)\n",
    "    plt.imshow(x)\n",
    "    plt.axis('off')\n",
    "\n",
    "tfs = transforms.Compose([\n",
    "    transforms.ColorJitter(hue=.20, saturation=.20),\n",
    "    transforms.RandomRotation(10, resample=PIL.Image.BILINEAR),\n",
    "    transforms.ToTensor(),\n",
    "    transforms.Normalize(\n",
    "        mean=[0.43,0.44,0.47],\n",
    "        std=[0.20,0.20,0.20],\n",
    "    ),\n",
    "])\n",
    "\n",
    "data_aug_train = dset.SVHN(\n",
    "    './',\n",
    "    transform=tfs\n",
    ")\n",
    "\n",
    "train_aug_loader = torch.utils.data.DataLoader(\n",
    "    data_aug_train,\n",
    "    batch_size=batch_size,\n",
    "    sampler=train_sampler\n",
    ")"
   ]
  },
  {
   "cell_type": "code",
   "execution_count": 12,
   "metadata": {
    "colab": {
     "base_uri": "https://localhost:8080/"
    },
    "id": "PeO6Zw0DHqPR",
    "outputId": "c6538bc5-a9a1-4f46-a26f-dac6081e6e32"
   },
   "outputs": [
    {
     "name": "stdout",
     "output_type": "stream",
     "text": [
      "Average loss: 0.610573, Train accuracy: 0.815309, Val accuracy: 0.829295\n",
      "Average loss: 0.562746, Train accuracy: 0.828567, Val accuracy: 0.833049\n",
      "Average loss: 0.541310, Train accuracy: 0.836536, Val accuracy: 0.847655\n",
      "Average loss: 0.526828, Train accuracy: 0.840221, Val accuracy: 0.848270\n",
      "Average loss: 0.513103, Train accuracy: 0.845425, Val accuracy: 0.837554\n"
     ]
    }
   ],
   "source": [
    "# Finally, let's train with augmentations!\n",
    "\n",
    "# Note we shouldn't use augmentations on validation\n",
    "\n",
    "loss_history, train_history, val_history = train_model(nn_model, train_aug_loader, val_loader, loss, optimizer, 5)"
   ]
  },
  {
   "cell_type": "markdown",
   "metadata": {
    "id": "r0bcioK6JBDK"
   },
   "source": [
    "# LeNet\n",
    "Попробуем имплементировать классическую архитектуру сверточной нейронной сети, предложенную Яном ЛеКуном в 1998 году. В свое время она достигла впечатляющих результатов на MNIST, посмотрим как она справится с SVHN?\n",
    "Она описана в статье [\"Gradient Based Learning Applied to Document Recognition\"](http://yann.lecun.com/exdb/publis/pdf/lecun-01a.pdf), попробуйте прочитать ключевые части и имплементировать предложенную архитетуру на PyTorch.\n",
    "\n",
    "Реализовывать слои и функцию ошибки LeNet, которых нет в PyTorch, **не нужно** - просто возьмите их размеры и переведите в уже известные нам Convolutional, Pooling и Fully Connected layers.\n",
    "\n",
    "Если в статье не очень понятно, можно просто погуглить LeNet и разобраться в деталях :)"
   ]
  },
  {
   "cell_type": "code",
   "execution_count": 13,
   "metadata": {
    "id": "ieEzZUglJAUB"
   },
   "outputs": [],
   "source": [
    "# TODO: Implement LeNet-like architecture for SVHN task\n",
    "lenet_model = nn.Sequential(\n",
    "    nn.Conv2d(\n",
    "        in_channels=3, out_channels=6,\n",
    "        kernel_size=5, padding=0, stride=1\n",
    "    ),\n",
    "    nn.MaxPool2d(kernel_size=2),\n",
    "    nn.ReLU(inplace=True),\n",
    "\n",
    "    nn.Conv2d(\n",
    "        in_channels=6, out_channels=16,\n",
    "        kernel_size=5, padding=0, stride=1\n",
    "    ),\n",
    "    nn.MaxPool2d(kernel_size=2),\n",
    "    nn.ReLU(inplace=True),\n",
    "\n",
    "    nn.Conv2d(\n",
    "        in_channels=16, out_channels=120, \n",
    "        kernel_size=5, padding=0, stride=1\n",
    "    ),\n",
    "    nn.ReLU(inplace=True),\n",
    "\n",
    "    Flattener(),\n",
    "\n",
    "    nn.Linear(in_features=120, out_features=84),\n",
    "    nn.ReLU(inplace=True),\n",
    "\n",
    "    nn.Linear(in_features=84, out_features=10),\n",
    ")\n",
    "\n",
    "lenet_model.type(torch.cuda.FloatTensor)\n",
    "lenet_model.to(device)\n",
    "\n",
    "loss = nn.CrossEntropyLoss().type(torch.cuda.FloatTensor)\n",
    "optimizer = optim.SGD(lenet_model.parameters(), lr=1e-1, weight_decay=1e-4)"
   ]
  },
  {
   "cell_type": "code",
   "execution_count": 14,
   "metadata": {
    "colab": {
     "base_uri": "https://localhost:8080/"
    },
    "id": "WMmaPfdeKk9H",
    "outputId": "1fa3647d-e60e-4e2b-d945-c670266ad5e8"
   },
   "outputs": [
    {
     "name": "stdout",
     "output_type": "stream",
     "text": [
      "Average loss: 1.333188, Train accuracy: 0.548476, Val accuracy: 0.822811\n",
      "Average loss: 0.557208, Train accuracy: 0.833567, Val accuracy: 0.862535\n",
      "Average loss: 0.461854, Train accuracy: 0.864212, Val accuracy: 0.877005\n",
      "Average loss: 0.412965, Train accuracy: 0.877060, Val accuracy: 0.889359\n",
      "Average loss: 0.378245, Train accuracy: 0.886189, Val accuracy: 0.894546\n",
      "Average loss: 0.354521, Train accuracy: 0.894806, Val accuracy: 0.894683\n",
      "Average loss: 0.336927, Train accuracy: 0.898560, Val accuracy: 0.897823\n",
      "Average loss: 0.320753, Train accuracy: 0.903884, Val accuracy: 0.898096\n",
      "Average loss: 0.310437, Train accuracy: 0.906375, Val accuracy: 0.901235\n",
      "Average loss: 0.293924, Train accuracy: 0.911477, Val accuracy: 0.893659\n"
     ]
    }
   ],
   "source": [
    "# Let's train it!\n",
    "loss_history, train_history, val_history = train_model(lenet_model, train_aug_loader, val_loader, loss, optimizer, 10)"
   ]
  },
  {
   "cell_type": "markdown",
   "metadata": {
    "id": "u_O9qiYySvuj"
   },
   "source": [
    "# Подбор гиперпараметров"
   ]
  },
  {
   "cell_type": "code",
   "execution_count": 15,
   "metadata": {
    "colab": {
     "base_uri": "https://localhost:8080/"
    },
    "id": "i6mhfdQ9K-N3",
    "outputId": "4d6fb67d-698d-46fe-8774-29236f4f2255"
   },
   "outputs": [
    {
     "name": "stdout",
     "output_type": "stream",
     "text": [
      "learning_rate = 1.0\t;\treg = 0.001\n",
      "Average loss: 2.243658, Train accuracy: 0.191738, Val accuracy: 0.188588\n",
      "Average loss: 2.242068, Train accuracy: 0.188206, Val accuracy: 0.188588\n",
      "Average loss: 2.242316, Train accuracy: 0.188223, Val accuracy: 0.188588\n",
      "Average loss: 2.242463, Train accuracy: 0.187796, Val accuracy: 0.188588\n",
      "Epoch 00005: reducing learning rate of group 0 to 5.0000e-01.\n",
      "Average loss: 2.242194, Train accuracy: 0.188172, Val accuracy: 0.188588\n",
      "learning_rate = 1.0\t;\treg = 0.0001\n",
      "Average loss: 2.245427, Train accuracy: 0.188189, Val accuracy: 0.188588\n",
      "Average loss: 2.181132, Train accuracy: 0.224550, Val accuracy: 0.338543\n",
      "Average loss: 2.098847, Train accuracy: 0.285363, Val accuracy: 0.222169\n",
      "Average loss: 2.276922, Train accuracy: 0.189656, Val accuracy: 0.188588\n",
      "Average loss: 2.242362, Train accuracy: 0.188564, Val accuracy: 0.188588\n",
      "learning_rate = 1.0\t;\treg = 1e-05\n",
      "Average loss: 2.244271, Train accuracy: 0.188445, Val accuracy: 0.188588\n",
      "Average loss: 2.242356, Train accuracy: 0.188616, Val accuracy: 0.188588\n",
      "Average loss: 2.241863, Train accuracy: 0.188172, Val accuracy: 0.188588\n",
      "Average loss: 2.242066, Train accuracy: 0.189025, Val accuracy: 0.188588\n",
      "Average loss: 2.242469, Train accuracy: 0.188121, Val accuracy: 0.188588\n",
      "learning_rate = 1.0\t;\treg = 1e-07\n",
      "Average loss: 2.238722, Train accuracy: 0.191789, Val accuracy: 0.188588\n",
      "Average loss: 2.242060, Train accuracy: 0.188018, Val accuracy: 0.188588\n",
      "Average loss: 2.242354, Train accuracy: 0.188035, Val accuracy: 0.188588\n",
      "Epoch 00004: reducing learning rate of group 0 to 5.0000e-01.\n",
      "Average loss: 2.242294, Train accuracy: 0.188837, Val accuracy: 0.188588\n",
      "Average loss: 2.240399, Train accuracy: 0.189366, Val accuracy: 0.188588\n",
      "learning_rate = 0.1\t;\treg = 0.001\n",
      "Average loss: 1.355269, Train accuracy: 0.544313, Val accuracy: 0.715992\n",
      "Average loss: 0.557603, Train accuracy: 0.833840, Val accuracy: 0.862125\n",
      "Average loss: 0.467803, Train accuracy: 0.859332, Val accuracy: 0.879053\n",
      "Average loss: 0.419433, Train accuracy: 0.874637, Val accuracy: 0.894546\n",
      "Average loss: 0.393928, Train accuracy: 0.882299, Val accuracy: 0.896799\n",
      "learning_rate = 0.1\t;\treg = 0.0001\n",
      "Average loss: 1.391165, Train accuracy: 0.529417, Val accuracy: 0.826428\n",
      "Average loss: 0.573026, Train accuracy: 0.827663, Val accuracy: 0.845267\n",
      "Average loss: 0.479336, Train accuracy: 0.856499, Val accuracy: 0.853525\n",
      "Average loss: 0.426189, Train accuracy: 0.871771, Val accuracy: 0.879257\n",
      "Average loss: 0.393965, Train accuracy: 0.881292, Val accuracy: 0.860760\n",
      "learning_rate = 0.1\t;\treg = 1e-05\n",
      "Average loss: 1.405344, Train accuracy: 0.526345, Val accuracy: 0.821309\n",
      "Average loss: 0.570161, Train accuracy: 0.830393, Val accuracy: 0.853935\n",
      "Average loss: 0.472272, Train accuracy: 0.859246, Val accuracy: 0.857416\n",
      "Average loss: 0.421824, Train accuracy: 0.874057, Val accuracy: 0.880145\n",
      "Average loss: 0.389015, Train accuracy: 0.883561, Val accuracy: 0.879053\n",
      "learning_rate = 0.1\t;\treg = 1e-07\n",
      "Average loss: 1.371961, Train accuracy: 0.534826, Val accuracy: 0.826087\n",
      "Average loss: 0.572671, Train accuracy: 0.827543, Val accuracy: 0.859805\n",
      "Average loss: 0.477989, Train accuracy: 0.856141, Val accuracy: 0.860692\n",
      "Average loss: 0.424373, Train accuracy: 0.873033, Val accuracy: 0.885264\n",
      "Average loss: 0.394236, Train accuracy: 0.882606, Val accuracy: 0.889086\n",
      "learning_rate = 0.01\t;\treg = 0.001\n",
      "Average loss: 2.247947, Train accuracy: 0.185493, Val accuracy: 0.188588\n",
      "Average loss: 2.215110, Train accuracy: 0.191704, Val accuracy: 0.188861\n",
      "Average loss: 1.762156, Train accuracy: 0.401512, Val accuracy: 0.632448\n",
      "Average loss: 0.904212, Train accuracy: 0.728884, Val accuracy: 0.788342\n",
      "Average loss: 0.711805, Train accuracy: 0.794577, Val accuracy: 0.828408\n",
      "learning_rate = 0.01\t;\treg = 0.0001\n",
      "Average loss: 2.253686, Train accuracy: 0.184708, Val accuracy: 0.188588\n",
      "Average loss: 2.231726, Train accuracy: 0.189366, Val accuracy: 0.188588\n",
      "Average loss: 2.175385, Train accuracy: 0.209484, Val accuracy: 0.312061\n",
      "Average loss: 1.467959, Train accuracy: 0.520715, Val accuracy: 0.705617\n",
      "Average loss: 0.855210, Train accuracy: 0.743968, Val accuracy: 0.778309\n",
      "learning_rate = 0.01\t;\treg = 1e-05\n",
      "Average loss: 2.258163, Train accuracy: 0.179060, Val accuracy: 0.188588\n",
      "Average loss: 2.222164, Train accuracy: 0.192165, Val accuracy: 0.209474\n",
      "Average loss: 1.768111, Train accuracy: 0.399515, Val accuracy: 0.640912\n",
      "Average loss: 0.983439, Train accuracy: 0.698990, Val accuracy: 0.747662\n",
      "Average loss: 0.732243, Train accuracy: 0.784015, Val accuracy: 0.825131\n",
      "learning_rate = 0.01\t;\treg = 1e-07\n",
      "Average loss: 2.250172, Train accuracy: 0.188308, Val accuracy: 0.188588\n",
      "Average loss: 2.227931, Train accuracy: 0.189895, Val accuracy: 0.195072\n",
      "Average loss: 2.056234, Train accuracy: 0.273999, Val accuracy: 0.466385\n",
      "Average loss: 1.238062, Train accuracy: 0.609767, Val accuracy: 0.733465\n",
      "Average loss: 0.843284, Train accuracy: 0.748695, Val accuracy: 0.783837\n",
      "learning_rate = 0.001\t;\treg = 0.001\n",
      "Average loss: 2.293794, Train accuracy: 0.145548, Val accuracy: 0.140263\n",
      "Average loss: 2.279612, Train accuracy: 0.159676, Val accuracy: 0.186540\n",
      "Average loss: 2.267900, Train accuracy: 0.190066, Val accuracy: 0.188793\n",
      "Average loss: 2.257706, Train accuracy: 0.189366, Val accuracy: 0.188588\n",
      "Average loss: 2.248904, Train accuracy: 0.189366, Val accuracy: 0.188588\n",
      "learning_rate = 0.001\t;\treg = 0.0001\n",
      "Average loss: 2.301269, Train accuracy: 0.134508, Val accuracy: 0.188588\n",
      "Average loss: 2.285110, Train accuracy: 0.189366, Val accuracy: 0.188588\n",
      "Average loss: 2.272075, Train accuracy: 0.189366, Val accuracy: 0.188588\n",
      "Average loss: 2.261425, Train accuracy: 0.189366, Val accuracy: 0.188588\n",
      "Average loss: 2.252642, Train accuracy: 0.189366, Val accuracy: 0.188588\n",
      "learning_rate = 0.001\t;\treg = 1e-05\n",
      "Average loss: 2.304016, Train accuracy: 0.101457, Val accuracy: 0.117193\n",
      "Average loss: 2.284779, Train accuracy: 0.162219, Val accuracy: 0.188588\n",
      "Average loss: 2.270776, Train accuracy: 0.189366, Val accuracy: 0.188588\n",
      "Average loss: 2.259534, Train accuracy: 0.189366, Val accuracy: 0.188588\n",
      "Average loss: 2.250470, Train accuracy: 0.189366, Val accuracy: 0.188588\n",
      "learning_rate = 0.001\t;\treg = 1e-07\n",
      "Average loss: 2.292955, Train accuracy: 0.142579, Val accuracy: 0.188588\n",
      "Average loss: 2.270242, Train accuracy: 0.189366, Val accuracy: 0.188588\n",
      "Average loss: 2.249730, Train accuracy: 0.189366, Val accuracy: 0.188588\n",
      "Average loss: 2.241499, Train accuracy: 0.189366, Val accuracy: 0.188588\n",
      "Average loss: 2.239168, Train accuracy: 0.189366, Val accuracy: 0.188588\n",
      "learning_rate = 0.0001\t;\treg = 0.001\n",
      "Average loss: 2.296491, Train accuracy: 0.189417, Val accuracy: 0.188588\n",
      "Average loss: 2.294587, Train accuracy: 0.189366, Val accuracy: 0.188588\n",
      "Average loss: 2.292763, Train accuracy: 0.189366, Val accuracy: 0.188588\n",
      "Average loss: 2.290977, Train accuracy: 0.189366, Val accuracy: 0.188588\n",
      "Average loss: 2.289199, Train accuracy: 0.189366, Val accuracy: 0.188588\n",
      "learning_rate = 0.0001\t;\treg = 0.0001\n",
      "Average loss: 2.296206, Train accuracy: 0.155342, Val accuracy: 0.174459\n",
      "Average loss: 2.294251, Train accuracy: 0.179504, Val accuracy: 0.187086\n",
      "Average loss: 2.292386, Train accuracy: 0.188650, Val accuracy: 0.188588\n",
      "Average loss: 2.290523, Train accuracy: 0.189366, Val accuracy: 0.188588\n",
      "Average loss: 2.288711, Train accuracy: 0.189366, Val accuracy: 0.188588\n",
      "learning_rate = 0.0001\t;\treg = 1e-05\n",
      "Average loss: 2.297873, Train accuracy: 0.115705, Val accuracy: 0.117125\n",
      "Average loss: 2.296015, Train accuracy: 0.115705, Val accuracy: 0.117125\n",
      "Average loss: 2.294176, Train accuracy: 0.115705, Val accuracy: 0.117125\n",
      "Average loss: 2.292423, Train accuracy: 0.115688, Val accuracy: 0.117125\n",
      "Average loss: 2.290686, Train accuracy: 0.115688, Val accuracy: 0.117125\n",
      "learning_rate = 0.0001\t;\treg = 1e-07\n",
      "Average loss: 2.308057, Train accuracy: 0.079855, Val accuracy: 0.078356\n",
      "Average loss: 2.305965, Train accuracy: 0.085998, Val accuracy: 0.087434\n",
      "Average loss: 2.303898, Train accuracy: 0.101662, Val accuracy: 0.108798\n",
      "Average loss: 2.301972, Train accuracy: 0.120141, Val accuracy: 0.122995\n",
      "Average loss: 2.300035, Train accuracy: 0.136692, Val accuracy: 0.135281\n"
     ]
    }
   ],
   "source": [
    "# The key hyperparameters we're going to tune are learning speed, annealing rate and regularization\n",
    "# We also encourage you to try different optimizers as well\n",
    "\n",
    "Hyperparams = namedtuple(\"Hyperparams\", ['learning_rate', 'reg'])\n",
    "RunResult = namedtuple(\"RunResult\", ['model', 'train_history', 'val_history', 'final_val_accuracy'])\n",
    "\n",
    "learning_rates = [1e0, 1e-1, 1e-2, 1e-3, 1e-4]\n",
    "anneal_coeff = 0.2\n",
    "anneal_epochs = [1, 5, 10, 15, 20, 50]\n",
    "reg = [1e-3, 1e-4, 1e-5, 1e-7]\n",
    "\n",
    "batch_size = 64\n",
    "epoch_num = 5\n",
    "\n",
    "# Record all the runs here\n",
    "# Key should be Hyperparams and values should be RunResult\n",
    "run_record = {} \n",
    "\n",
    "# Use grid search or random search and record all runs in run_record dictionnary \n",
    "# Important: perform search in logarithmic space!\n",
    "\n",
    "# TODO: Your code here!\n",
    "\n",
    "def search_hyperparams(learning_rate, reg):\n",
    "    lenet_model = nn.Sequential(\n",
    "        nn.Conv2d(\n",
    "            in_channels=3, out_channels=6,\n",
    "            kernel_size=5, padding=0, stride=1\n",
    "        ),\n",
    "        nn.MaxPool2d(kernel_size=2),\n",
    "        nn.ReLU(inplace=True),\n",
    "\n",
    "        nn.Conv2d(\n",
    "            in_channels=6, out_channels=16,\n",
    "            kernel_size=5, padding=0, stride=1\n",
    "        ),\n",
    "        nn.MaxPool2d(kernel_size=2),\n",
    "        nn.ReLU(inplace=True),\n",
    "\n",
    "        nn.Conv2d(\n",
    "            in_channels=16, out_channels=120, \n",
    "            kernel_size=5, padding=0, stride=1\n",
    "        ),\n",
    "        nn.ReLU(inplace=True),\n",
    "\n",
    "        Flattener(),\n",
    "\n",
    "        nn.Linear(in_features=120, out_features=84),\n",
    "        nn.ReLU(inplace=True),\n",
    "\n",
    "        nn.Linear(in_features=84, out_features=10),\n",
    "    )\n",
    "\n",
    "    lenet_model.type(torch.cuda.FloatTensor)\n",
    "    lenet_model.to(device)\n",
    "\n",
    "    loss = nn.CrossEntropyLoss().type(torch.cuda.FloatTensor)\n",
    "    optimizer = optim.SGD(lenet_model.parameters(), lr=learning_rate, weight_decay=reg)\n",
    "    scheduler = optim.lr_scheduler.ReduceLROnPlateau(optimizer, factor = 0.5, patience = 2, verbose = True)\n",
    "\n",
    "    loss_history, train_history, val_history = train_model(lenet_model, train_aug_loader, val_loader, loss, optimizer, epoch_num, scheduler)\n",
    "\n",
    "    run_record[Hyperparams(learning_rate, reg)] = RunResult(lenet_model, train_history, val_history , val_history[-1])\n",
    "\n",
    "for lr in learning_rates:\n",
    "    for r in reg:\n",
    "        print(f'learning_rate = {lr}\\t;\\treg = {r}')\n",
    "        search_hyperparams(lr, r)"
   ]
  },
  {
   "cell_type": "code",
   "execution_count": 16,
   "metadata": {
    "colab": {
     "base_uri": "https://localhost:8080/"
    },
    "id": "Y6xExdw8JB1l",
    "outputId": "78eb7bf1-1356-4fa8-d575-bb8c4608f237"
   },
   "outputs": [
    {
     "name": "stdout",
     "output_type": "stream",
     "text": [
      "Best validation accuracy: 0.90, best hyperparams: Hyperparams(learning_rate=0.1, reg=0.001)\n"
     ]
    }
   ],
   "source": [
    "best_val_accuracy = None\n",
    "best_hyperparams = None\n",
    "best_run = None\n",
    "\n",
    "for hyperparams, run_result in run_record.items():\n",
    "    if best_val_accuracy is None or best_val_accuracy < run_result.final_val_accuracy:\n",
    "        best_val_accuracy = run_result.final_val_accuracy\n",
    "        best_hyperparams = hyperparams\n",
    "        best_run = run_result\n",
    "        \n",
    "print(\"Best validation accuracy: %4.2f, best hyperparams: %s\" % (best_val_accuracy, best_hyperparams))\n",
    "        "
   ]
  },
  {
   "cell_type": "markdown",
   "metadata": {
    "id": "LOmsR0uVgtgf"
   },
   "source": [
    "# Свободное упражнение - догоним и перегоним LeNet!\n",
    "\n",
    "Попробуйте найти архитектуру и настройки тренировки, чтобы выступить лучше наших бейзлайнов.\n",
    "\n",
    "Что можно и нужно попробовать:\n",
    "- BatchNormalization (для convolution layers он в PyTorch называется [batchnorm2d](https://pytorch.org/docs/stable/nn.html#batchnorm2d))\n",
    "- Изменить количество слоев и их толщину\n",
    "- Изменять количество эпох тренировки\n",
    "- Попробовать и другие агментации"
   ]
  },
  {
   "cell_type": "code",
   "execution_count": 1,
   "metadata": {},
   "outputs": [],
   "source": [
    "# RESTART\n",
    "\n",
    "from collections import namedtuple\n",
    "\n",
    "import matplotlib.pyplot as plt\n",
    "import numpy as np\n",
    "import PIL\n",
    "import torch\n",
    "import torch.nn as nn\n",
    "import torch.optim as optim\n",
    "import torchvision.datasets as dset\n",
    "from torch.utils.data.sampler import SubsetRandomSampler\n",
    "\n",
    "from torchvision import transforms\n",
    "\n",
    "\n",
    "device = torch.device(\"cuda:0\")\n",
    "\n",
    "data_train = dset.SVHN(\n",
    "    './',\n",
    "    transform=transforms.Compose(\n",
    "        [\n",
    "            transforms.ToTensor(),\n",
    "            transforms.Normalize(\n",
    "                mean=[0.43,0.44,0.47],\n",
    "                std=[0.20,0.20,0.20]\n",
    "            )\n",
    "        ]\n",
    "    )\n",
    ")\n",
    "data_test = dset.SVHN(\n",
    "    './',\n",
    "    split='test',\n",
    "    transform=transforms.Compose(\n",
    "        [\n",
    "            transforms.ToTensor(),\n",
    "            transforms.Normalize(\n",
    "                mean=[0.43,0.44,0.47],\n",
    "                std=[0.20,0.20,0.20]\n",
    "            )\n",
    "        ]\n",
    "    )\n",
    ")\n",
    "\n",
    "batch_size = 64\n",
    "\n",
    "data_size = data_train.data.shape[0]\n",
    "validation_split = .2\n",
    "split = int(np.floor(validation_split * data_size))\n",
    "indices = list(range(data_size))\n",
    "np.random.shuffle(indices)\n",
    "\n",
    "train_indices, val_indices = indices[split:], indices[:split]\n",
    "\n",
    "train_sampler = SubsetRandomSampler(train_indices)\n",
    "val_sampler = SubsetRandomSampler(val_indices)\n",
    "\n",
    "train_loader = torch.utils.data.DataLoader(data_train, batch_size=batch_size, \n",
    "                                           sampler=train_sampler)\n",
    "val_loader = torch.utils.data.DataLoader(data_train, batch_size=batch_size,\n",
    "                                         sampler=val_sampler)\n",
    "\n",
    "class Flattener(nn.Module):\n",
    "    def forward(self, x):\n",
    "        batch_size, *_ = x.shape\n",
    "        return x.view(batch_size, -1)\n",
    "\n",
    "\n",
    "def train_model(model, train_loader, val_loader, loss, optimizer, num_epochs, scheduler=None):    \n",
    "    loss_history = []\n",
    "    train_history = []\n",
    "    val_history = []\n",
    "    for epoch in range(num_epochs):\n",
    "        model.train() # Enter train mode\n",
    "        \n",
    "        loss_accum = 0\n",
    "        correct_samples = 0\n",
    "        total_samples = 0\n",
    "        for i_step, (x, y) in enumerate(train_loader):\n",
    "          \n",
    "            x_gpu = x.to(device)\n",
    "            y_gpu = y.to(device)\n",
    "            prediction = model(x_gpu)    \n",
    "            loss_value = loss(prediction, y_gpu)\n",
    "            optimizer.zero_grad()\n",
    "            loss_value.backward()\n",
    "            optimizer.step()\n",
    "            \n",
    "            _, indices = torch.max(prediction, 1)\n",
    "            correct_samples += torch.sum(indices == y_gpu)\n",
    "            total_samples += y.shape[0]\n",
    "            \n",
    "            loss_accum += loss_value\n",
    "\n",
    "        ave_loss = loss_accum / i_step\n",
    "        train_accuracy = float(correct_samples) / total_samples\n",
    "        val_accuracy = compute_accuracy(model, val_loader)\n",
    "        \n",
    "        if scheduler is not None:\n",
    "            scheduler.step(ave_loss)\n",
    "        \n",
    "        loss_history.append(float(ave_loss))\n",
    "        train_history.append(train_accuracy)\n",
    "        val_history.append(val_accuracy)\n",
    "        \n",
    "        print(\"Average loss: %f, Train accuracy: %f, Val accuracy: %f\" % (ave_loss, train_accuracy, val_accuracy))\n",
    "        \n",
    "    return loss_history, train_history, val_history\n",
    "\n",
    "\n",
    "def compute_accuracy(model, loader):\n",
    "    \"\"\"\n",
    "    Computes accuracy on the dataset wrapped in a loader\n",
    "    \n",
    "    Returns: accuracy as a float value between 0 and 1\n",
    "    \"\"\"\n",
    "    model.eval() # Evaluation mode\n",
    "    # TODO: Copy implementation from previous assignment\n",
    "    # Don't forget to move the data to device before running it through the model!\n",
    "    \n",
    "    correct_samples = 0\n",
    "    total_samples = 0\n",
    "    for i_step, (x, y) in enumerate(loader):\n",
    "        x_gpu = x.to(device)\n",
    "        y_gpu = y.to(device)\n",
    "        prediction = model(x_gpu)\n",
    "        compare = torch.argmax(prediction, 1) == y_gpu\n",
    "        correct_samples += compare.count_nonzero()\n",
    "        total_samples += y_gpu.shape[0]\n",
    "    \n",
    "    return float(correct_samples) / total_samples"
   ]
  },
  {
   "cell_type": "code",
   "execution_count": 8,
   "metadata": {
    "colab": {
     "base_uri": "https://localhost:8080/",
     "height": 410
    },
    "id": "tSVhD747icoc",
    "outputId": "406a1e8f-dc72-42cd-fc32-20486b56b0a3"
   },
   "outputs": [
    {
     "name": "stdout",
     "output_type": "stream",
     "text": [
      "Average loss: 0.875461, Train accuracy: 0.709398, Val accuracy: 0.872159\n",
      "Average loss: 0.416802, Train accuracy: 0.872641, Val accuracy: 0.898573\n",
      "Average loss: 0.355105, Train accuracy: 0.890574, Val accuracy: 0.902805\n",
      "Average loss: 0.317801, Train accuracy: 0.902416, Val accuracy: 0.902601\n",
      "Average loss: 0.292702, Train accuracy: 0.910589, Val accuracy: 0.911542\n",
      "Average loss: 0.270261, Train accuracy: 0.917210, Val accuracy: 0.915296\n",
      "Average loss: 0.252187, Train accuracy: 0.922772, Val accuracy: 0.913043\n",
      "Average loss: 0.232753, Train accuracy: 0.928625, Val accuracy: 0.913248\n",
      "Average loss: 0.219917, Train accuracy: 0.932191, Val accuracy: 0.915842\n",
      "Average loss: 0.209945, Train accuracy: 0.934955, Val accuracy: 0.918504\n"
     ]
    }
   ],
   "source": [
    "# PARAMETERS\n",
    "\n",
    "# DATA\n",
    "use_batch_size = 64\n",
    "# MODEL\n",
    "use_kernel_size = 5\n",
    "use_padding = 1\n",
    "use_stride = 1\n",
    "# OPTIMIZER\n",
    "use_learning_rate = 1e-1\n",
    "use_reg = 1e-4\n",
    "# SCHEDULER\n",
    "use_factor = 0.1\n",
    "use_patience = 3\n",
    "# TRAIN\n",
    "use_epoch_num = 10\n",
    "\n",
    "# MODEL\n",
    "\n",
    "best_model = nn.Sequential(\n",
    "    nn.Conv2d(\n",
    "        in_channels=3, out_channels=6,\n",
    "        kernel_size=use_kernel_size, padding=use_padding, stride=use_stride\n",
    "    ),\n",
    "    nn.BatchNorm2d(6),\n",
    "    nn.MaxPool2d(kernel_size=2),\n",
    "    nn.ReLU(inplace=True),\n",
    "\n",
    "    nn.Conv2d(\n",
    "        in_channels=6, out_channels=16,\n",
    "        kernel_size=use_kernel_size, padding=use_padding, stride=use_stride\n",
    "    ),\n",
    "    nn.BatchNorm2d(16),\n",
    "    nn.MaxPool2d(kernel_size=2),\n",
    "    nn.ReLU(inplace=True),\n",
    "\n",
    "    nn.Conv2d(\n",
    "        in_channels=16, out_channels=120, \n",
    "        kernel_size=use_kernel_size, padding=use_padding, stride=use_stride\n",
    "    ),\n",
    "    nn.BatchNorm2d(120),\n",
    "    nn.ReLU(inplace=True),\n",
    "\n",
    "    Flattener(),\n",
    "\n",
    "    nn.Linear(in_features=1920, out_features=120),\n",
    "    nn.BatchNorm1d(120),\n",
    "    nn.ReLU(inplace=True),\n",
    "\n",
    "    nn.Linear(in_features=120, out_features=84),\n",
    "    nn.BatchNorm1d(84),\n",
    "    nn.ReLU(inplace=True),\n",
    "\n",
    "    nn.Linear(in_features=84, out_features=10),\n",
    ")\n",
    "best_model.type(torch.cuda.FloatTensor)\n",
    "best_model.to(device)\n",
    "\n",
    "# AUGMENTED\n",
    "\n",
    "tfs = transforms.Compose([\n",
    "    transforms.ColorJitter(hue=.20, saturation=.20),\n",
    "    transforms.RandomRotation(10, resample=PIL.Image.BILINEAR),\n",
    "    transforms.ToTensor(),\n",
    "    transforms.Normalize(\n",
    "        mean=[0.43,0.44,0.47],\n",
    "        std=[0.20,0.20,0.20],\n",
    "    ),\n",
    "])\n",
    "\n",
    "data_aug_train = dset.SVHN(\n",
    "    './',\n",
    "    transform=tfs\n",
    ")\n",
    "\n",
    "train_aug_loader = torch.utils.data.DataLoader(\n",
    "    data_aug_train,\n",
    "    batch_size=use_batch_size,\n",
    "    sampler=train_sampler\n",
    ")\n",
    "\n",
    "# LOSS, OPTIMIZER, SCHEDULER\n",
    "\n",
    "loss = nn.CrossEntropyLoss().type(torch.cuda.FloatTensor)\n",
    "# optimizer = optim.SGD(best_model.parameters(), lr=use_learning_rate, weight_decay=use_reg)\n",
    "optimizer = optim.Adagrad(best_model.parameters(), lr=use_learning_rate, weight_decay=use_reg)\n",
    "scheduler = optim.lr_scheduler.ReduceLROnPlateau(optimizer, factor=use_factor, patience=use_patience, verbose=True)\n",
    "\n",
    "# TRAIN\n",
    "\n",
    "loss_history, train_history, val_history = train_model(\n",
    "    best_model,\n",
    "    train_aug_loader,\n",
    "    val_loader,\n",
    "    loss,\n",
    "    optimizer,\n",
    "    use_epoch_num,\n",
    "    scheduler\n",
    ")"
   ]
  },
  {
   "cell_type": "markdown",
   "metadata": {
    "id": "ubeKgBcnhx7N"
   },
   "source": [
    "# Финальный аккорд - проверим лучшую модель на test set\n",
    "\n",
    "В качестве разнообразия - напишите код для прогона модели на test set вы.\n",
    "\n",
    "В результате вы должны натренировать модель, которая покажет более **90%** точности на test set.  \n",
    "Как водится, лучший результат в группе получит дополнительные баллы!"
   ]
  },
  {
   "cell_type": "code",
   "execution_count": 9,
   "metadata": {
    "id": "EIqM1kdeh-hd"
   },
   "outputs": [
    {
     "name": "stdout",
     "output_type": "stream",
     "text": [
      "Final test accuracy -  0.916641057160418\n"
     ]
    }
   ],
   "source": [
    "# TODO Write the code to compute accuracy on test set\n",
    "test_loader = torch.utils.data.DataLoader(data_test, batch_size=batch_size)\n",
    "final_test_accuracy = compute_accuracy(best_model, test_loader)\n",
    "print(\"Final test accuracy - \", final_test_accuracy)"
   ]
  },
  {
   "cell_type": "code",
   "execution_count": null,
   "metadata": {
    "id": "BfH6qip6kVX_"
   },
   "outputs": [],
   "source": []
  }
 ],
 "metadata": {
  "accelerator": "GPU",
  "colab": {
   "collapsed_sections": [],
   "name": "PyTorch_CNN.ipynb",
   "provenance": []
  },
  "kernelspec": {
   "display_name": "Python 3 (ipykernel)",
   "language": "python",
   "name": "python3"
  },
  "language_info": {
   "codemirror_mode": {
    "name": "ipython",
    "version": 3
   },
   "file_extension": ".py",
   "mimetype": "text/x-python",
   "name": "python",
   "nbconvert_exporter": "python",
   "pygments_lexer": "ipython3",
   "version": "3.9.12"
  }
 },
 "nbformat": 4,
 "nbformat_minor": 1
}
