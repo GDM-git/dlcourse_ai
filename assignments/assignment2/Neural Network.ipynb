{
 "cells": [
  {
   "cell_type": "markdown",
   "metadata": {},
   "source": [
    "# Задание 2.1 - Нейронные сети\n",
    "\n",
    "В этом задании вы реализуете и натренируете настоящую нейроную сеть своими руками!\n",
    "\n",
    "В некотором смысле это будет расширением прошлого задания - нам нужно просто составить несколько линейных классификаторов вместе!\n",
    "\n",
    "<img src=\"https://i.redd.it/n9fgba8b0qr01.png\" alt=\"Stack_more_layers\" width=\"400px\"/>"
   ]
  },
  {
   "cell_type": "code",
   "execution_count": 1,
   "metadata": {},
   "outputs": [],
   "source": [
    "import numpy as np\n",
    "import matplotlib.pyplot as plt\n",
    "\n",
    "%matplotlib inline\n",
    "\n",
    "%load_ext autoreload\n",
    "%autoreload 2"
   ]
  },
  {
   "cell_type": "code",
   "execution_count": 2,
   "metadata": {},
   "outputs": [],
   "source": [
    "from dataset import load_svhn, random_split_train_val\n",
    "from gradient_check import check_layer_gradient, check_layer_param_gradient, check_model_gradient\n",
    "from layers import FullyConnectedLayer, ReLULayer\n",
    "from model import TwoLayerNet\n",
    "from trainer import Trainer, Dataset\n",
    "from optim import SGD, MomentumSGD\n",
    "from metrics import multiclass_accuracy"
   ]
  },
  {
   "cell_type": "markdown",
   "metadata": {},
   "source": [
    "# Загружаем данные\n",
    "\n",
    "И разделяем их на training и validation."
   ]
  },
  {
   "cell_type": "code",
   "execution_count": 3,
   "metadata": {},
   "outputs": [
    {
     "name": "stderr",
     "output_type": "stream",
     "text": [
      "C:\\Users\\Влад\\AppData\\Local\\Temp\\ipykernel_13024\\2810386256.py:2: DeprecationWarning: `np.float` is a deprecated alias for the builtin `float`. To silence this warning, use `float` by itself. Doing this will not modify any behavior and is safe. If you specifically wanted the numpy scalar type, use `np.float64` here.\n",
      "Deprecated in NumPy 1.20; for more details and guidance: https://numpy.org/devdocs/release/1.20.0-notes.html#deprecations\n",
      "  train_flat = train_X.reshape(train_X.shape[0], -1).astype(np.float) / 255.0\n",
      "C:\\Users\\Влад\\AppData\\Local\\Temp\\ipykernel_13024\\2810386256.py:3: DeprecationWarning: `np.float` is a deprecated alias for the builtin `float`. To silence this warning, use `float` by itself. Doing this will not modify any behavior and is safe. If you specifically wanted the numpy scalar type, use `np.float64` here.\n",
      "Deprecated in NumPy 1.20; for more details and guidance: https://numpy.org/devdocs/release/1.20.0-notes.html#deprecations\n",
      "  test_flat = test_X.reshape(test_X.shape[0], -1).astype(np.float) / 255.0\n"
     ]
    }
   ],
   "source": [
    "def prepare_for_neural_network(train_X, test_X):\n",
    "    train_flat = train_X.reshape(train_X.shape[0], -1).astype(np.float) / 255.0\n",
    "    test_flat = test_X.reshape(test_X.shape[0], -1).astype(np.float) / 255.0\n",
    "    \n",
    "    # Subtract mean\n",
    "    mean_image = np.mean(train_flat, axis = 0)\n",
    "    train_flat -= mean_image\n",
    "    test_flat -= mean_image\n",
    "    \n",
    "    return train_flat, test_flat\n",
    "    \n",
    "train_X, train_y, test_X, test_y = load_svhn(\"data\", max_train=10000, max_test=1000)    \n",
    "train_X, test_X = prepare_for_neural_network(train_X, test_X)\n",
    "# Split train into train and val\n",
    "train_X, train_y, val_X, val_y = random_split_train_val(train_X, train_y, num_val = 1000)"
   ]
  },
  {
   "cell_type": "markdown",
   "metadata": {},
   "source": [
    "# Как всегда, начинаем с кирпичиков\n",
    "\n",
    "Мы будем реализовывать необходимые нам слои по очереди. Каждый слой должен реализовать:\n",
    "- прямой проход (forward pass), который генерирует выход слоя по входу и запоминает необходимые данные\n",
    "- обратный проход (backward pass), который получает градиент по выходу слоя и вычисляет градиент по входу и по параметрам\n",
    "\n",
    "Начнем с ReLU, у которого параметров нет."
   ]
  },
  {
   "cell_type": "code",
   "execution_count": 4,
   "metadata": {
    "scrolled": false
   },
   "outputs": [
    {
     "name": "stdout",
     "output_type": "stream",
     "text": [
      "Gradient check passed!\n"
     ]
    }
   ],
   "source": [
    "# TODO: Implement ReLULayer layer in layers.py\n",
    "# Note: you'll need to copy implementation of the gradient_check function from the previous assignment\n",
    "\n",
    "X = np.array([[1,-2,3],\n",
    "              [-1, 2, 0.1]\n",
    "              ])\n",
    "\n",
    "assert check_layer_gradient(ReLULayer(), X)"
   ]
  },
  {
   "cell_type": "markdown",
   "metadata": {},
   "source": [
    "А теперь реализуем полносвязный слой (fully connected layer), у которого будет два массива параметров: W (weights) и B (bias).\n",
    "\n",
    "Все параметры наши слои будут использовать для параметров специальный класс `Param`, в котором будут храниться значения параметров и градиенты этих параметров, вычисляемые во время обратного прохода.\n",
    "\n",
    "Это даст возможность аккумулировать (суммировать) градиенты из разных частей функции потерь, например, из cross-entropy loss и regularization loss."
   ]
  },
  {
   "cell_type": "code",
   "execution_count": 5,
   "metadata": {},
   "outputs": [
    {
     "name": "stdout",
     "output_type": "stream",
     "text": [
      "Gradient check passed!\n",
      "Gradient check passed!\n",
      "Gradient check passed!\n"
     ]
    }
   ],
   "source": [
    "# TODO: Implement FullyConnected layer forward and backward methods\n",
    "assert check_layer_gradient(FullyConnectedLayer(3, 4), X)\n",
    "# TODO: Implement storing gradients for W and B\n",
    "assert check_layer_param_gradient(FullyConnectedLayer(3, 4), X, 'W')\n",
    "assert check_layer_param_gradient(FullyConnectedLayer(3, 4), X, 'B')"
   ]
  },
  {
   "cell_type": "markdown",
   "metadata": {},
   "source": [
    "## Создаем нейронную сеть\n",
    "\n",
    "Теперь мы реализуем простейшую нейронную сеть с двумя полносвязным слоями и нелинейностью ReLU. Реализуйте функцию `compute_loss_and_gradients`, она должна запустить прямой и обратный проход через оба слоя для вычисления градиентов.\n",
    "\n",
    "Не забудьте реализовать очистку градиентов в начале функции."
   ]
  },
  {
   "cell_type": "code",
   "execution_count": 6,
   "metadata": {},
   "outputs": [
    {
     "name": "stdout",
     "output_type": "stream",
     "text": [
      "Checking gradient for layer: 0; param: W\n",
      "Gradient check passed!\n",
      "Checking gradient for layer: 0; param: B\n",
      "Gradient check passed!\n",
      "Checking gradient for layer: 2; param: W\n",
      "Gradient check passed!\n",
      "Checking gradient for layer: 2; param: B\n",
      "Gradient check passed!\n"
     ]
    },
    {
     "data": {
      "text/plain": [
       "True"
      ]
     },
     "execution_count": 6,
     "metadata": {},
     "output_type": "execute_result"
    }
   ],
   "source": [
    "# TODO: In model.py, implement compute_loss_and_gradients function\n",
    "model = TwoLayerNet(n_input = train_X.shape[1], n_output = 10, hidden_layer_size = 3, reg = 0)\n",
    "loss = model.compute_loss_and_gradients(train_X[:2], train_y[:2])\n",
    "\n",
    "# TODO Now implement backward pass and aggregate all of the params\n",
    "check_model_gradient(model, train_X[:2], train_y[:2])"
   ]
  },
  {
   "cell_type": "markdown",
   "metadata": {},
   "source": [
    "Теперь добавьте к модели регуляризацию - она должна прибавляться к loss и делать свой вклад в градиенты."
   ]
  },
  {
   "cell_type": "code",
   "execution_count": 7,
   "metadata": {},
   "outputs": [
    {
     "name": "stdout",
     "output_type": "stream",
     "text": [
      "Checking gradient for layer: 0; param: W\n",
      "Gradient check passed!\n",
      "Checking gradient for layer: 0; param: B\n",
      "Gradient check passed!\n",
      "Checking gradient for layer: 2; param: W\n",
      "Gradient check passed!\n",
      "Checking gradient for layer: 2; param: B\n",
      "Gradient check passed!\n"
     ]
    },
    {
     "data": {
      "text/plain": [
       "True"
      ]
     },
     "execution_count": 7,
     "metadata": {},
     "output_type": "execute_result"
    }
   ],
   "source": [
    "# TODO Now implement l2 regularization in the forward and backward pass\n",
    "model_with_reg = TwoLayerNet(n_input = train_X.shape[1], n_output = 10, hidden_layer_size = 3, reg = 1e-2)\n",
    "loss_with_reg = model_with_reg.compute_loss_and_gradients(train_X[:2], train_y[:2])\n",
    "assert loss_with_reg > loss and not np.isclose(loss_with_reg, loss), \\\n",
    "    \"Loss with regularization (%2.4f) should be higher than without it (%2.4f)!\" % (loss, loss_with_reg)\n",
    "\n",
    "check_model_gradient(model_with_reg, train_X[:2], train_y[:2])"
   ]
  },
  {
   "cell_type": "markdown",
   "metadata": {},
   "source": [
    "Также реализуем функцию предсказания (вычисления значения) модели на новых данных.\n",
    "\n",
    "Какое значение точности мы ожидаем увидеть до начала тренировки?"
   ]
  },
  {
   "cell_type": "code",
   "execution_count": 8,
   "metadata": {},
   "outputs": [
    {
     "data": {
      "text/plain": [
       "0.1"
      ]
     },
     "execution_count": 8,
     "metadata": {},
     "output_type": "execute_result"
    }
   ],
   "source": [
    "# Finally, implement predict function!\n",
    "\n",
    "# TODO: Implement predict function\n",
    "# What would be the value we expect?\n",
    "multiclass_accuracy(model_with_reg.predict(train_X[:30]), train_y[:30]) "
   ]
  },
  {
   "cell_type": "markdown",
   "metadata": {},
   "source": [
    "# Допишем код для процесса тренировки\n",
    "\n",
    "Если все реализовано корректно, значение функции ошибки должно уменьшаться с каждой эпохой, пусть и медленно. Не беспокойтесь пока про validation accuracy."
   ]
  },
  {
   "cell_type": "code",
   "execution_count": 9,
   "metadata": {},
   "outputs": [
    {
     "name": "stdout",
     "output_type": "stream",
     "text": [
      "Epoch: 0, Loss: 2.278866, Train accuracy: 0.196667, val accuracy: 0.206000\n",
      "Epoch: 1, Loss: 2.251895, Train accuracy: 0.196667, val accuracy: 0.206000\n",
      "Epoch: 2, Loss: 2.242700, Train accuracy: 0.196667, val accuracy: 0.206000\n",
      "Epoch: 3, Loss: 2.239080, Train accuracy: 0.196667, val accuracy: 0.206000\n",
      "Epoch: 4, Loss: 2.236805, Train accuracy: 0.196667, val accuracy: 0.206000\n",
      "Epoch: 5, Loss: 2.234059, Train accuracy: 0.196667, val accuracy: 0.206000\n",
      "Epoch: 6, Loss: 2.229410, Train accuracy: 0.196667, val accuracy: 0.206000\n",
      "Epoch: 7, Loss: 2.218639, Train accuracy: 0.196667, val accuracy: 0.206000\n",
      "Epoch: 8, Loss: 2.200722, Train accuracy: 0.196667, val accuracy: 0.206000\n",
      "Epoch: 9, Loss: 2.180721, Train accuracy: 0.206222, val accuracy: 0.208000\n",
      "Epoch: 10, Loss: 2.163152, Train accuracy: 0.226111, val accuracy: 0.225000\n",
      "Epoch: 11, Loss: 2.148388, Train accuracy: 0.238778, val accuracy: 0.243000\n",
      "Epoch: 12, Loss: 2.135467, Train accuracy: 0.253889, val accuracy: 0.253000\n",
      "Epoch: 13, Loss: 2.122300, Train accuracy: 0.266111, val accuracy: 0.264000\n",
      "Epoch: 14, Loss: 2.106226, Train accuracy: 0.269444, val accuracy: 0.265000\n",
      "Epoch: 15, Loss: 2.086770, Train accuracy: 0.278778, val accuracy: 0.281000\n",
      "Epoch: 16, Loss: 2.064152, Train accuracy: 0.293556, val accuracy: 0.297000\n",
      "Epoch: 17, Loss: 2.039673, Train accuracy: 0.311889, val accuracy: 0.307000\n",
      "Epoch: 18, Loss: 2.015839, Train accuracy: 0.325778, val accuracy: 0.332000\n",
      "Epoch: 19, Loss: 1.993194, Train accuracy: 0.353222, val accuracy: 0.351000\n"
     ]
    }
   ],
   "source": [
    "model = TwoLayerNet(n_input = train_X.shape[1], n_output = 10, hidden_layer_size = 100, reg = 1e-2)\n",
    "dataset = Dataset(train_X, train_y, val_X, val_y)\n",
    "trainer = Trainer(model, dataset, SGD(), learning_rate = 1e-2)\n",
    "\n",
    "# TODO Implement missing pieces in Trainer.fit function\n",
    "# You should expect loss to go down every epoch, even if it's slow\n",
    "loss_history, train_history, val_history = trainer.fit()"
   ]
  },
  {
   "cell_type": "code",
   "execution_count": 10,
   "metadata": {},
   "outputs": [
    {
     "data": {
      "text/plain": [
       "[<matplotlib.lines.Line2D at 0x1a481c9ae80>]"
      ]
     },
     "execution_count": 10,
     "metadata": {},
     "output_type": "execute_result"
    },
    {
     "data": {
      "image/png": "[encoded data removed]",
      "text/plain": [
       "<Figure size 432x288 with 1 Axes>"
      ]
     },
     "metadata": {
      "needs_background": "light"
     },
     "output_type": "display_data"
    }
   ],
   "source": [
    "plt.plot(train_history)\n",
    "plt.plot(val_history)"
   ]
  },
  {
   "cell_type": "markdown",
   "metadata": {},
   "source": [
    "# Улучшаем процесс тренировки\n",
    "\n",
    "Мы реализуем несколько ключевых оптимизаций, необходимых для тренировки современных нейросетей."
   ]
  },
  {
   "cell_type": "markdown",
   "metadata": {},
   "source": [
    "## Уменьшение скорости обучения (learning rate decay)\n",
    "\n",
    "Одна из необходимых оптимизаций во время тренировки нейронных сетей - постепенное уменьшение скорости обучения по мере тренировки.\n",
    "\n",
    "Один из стандартных методов - уменьшение скорости обучения (learning rate) каждые N эпох на коэффициент d (часто называемый decay). Значения N и d, как всегда, являются гиперпараметрами и должны подбираться на основе эффективности на проверочных данных (validation data). \n",
    "\n",
    "В нашем случае N будет равным 1."
   ]
  },
  {
   "cell_type": "code",
   "execution_count": 11,
   "metadata": {},
   "outputs": [
    {
     "name": "stdout",
     "output_type": "stream",
     "text": [
      "Epoch: 0, Loss: 2.278593, Train accuracy: 0.196667, val accuracy: 0.206000\n",
      "Epoch: 1, Loss: 2.251419, Train accuracy: 0.196667, val accuracy: 0.206000\n",
      "Epoch: 2, Loss: 2.242392, Train accuracy: 0.196667, val accuracy: 0.206000\n",
      "Epoch: 3, Loss: 2.238713, Train accuracy: 0.196667, val accuracy: 0.206000\n",
      "Epoch: 4, Loss: 2.236403, Train accuracy: 0.196667, val accuracy: 0.206000\n",
      "Epoch: 5, Loss: 2.233886, Train accuracy: 0.196667, val accuracy: 0.206000\n",
      "Epoch: 6, Loss: 2.229141, Train accuracy: 0.196667, val accuracy: 0.206000\n",
      "Epoch: 7, Loss: 2.219055, Train accuracy: 0.196667, val accuracy: 0.206000\n",
      "Epoch: 8, Loss: 2.202580, Train accuracy: 0.196667, val accuracy: 0.206000\n",
      "Epoch: 9, Loss: 2.184010, Train accuracy: 0.199111, val accuracy: 0.208000\n",
      "Epoch: 10, Loss: 2.166855, Train accuracy: 0.212000, val accuracy: 0.217000\n",
      "Epoch: 11, Loss: 2.153070, Train accuracy: 0.233444, val accuracy: 0.236000\n",
      "Epoch: 12, Loss: 2.140393, Train accuracy: 0.247333, val accuracy: 0.247000\n",
      "Epoch: 13, Loss: 2.128472, Train accuracy: 0.254333, val accuracy: 0.254000\n",
      "Epoch: 14, Loss: 2.114865, Train accuracy: 0.272889, val accuracy: 0.273000\n",
      "Epoch: 15, Loss: 2.100065, Train accuracy: 0.277444, val accuracy: 0.280000\n",
      "Epoch: 16, Loss: 2.082998, Train accuracy: 0.279667, val accuracy: 0.281000\n",
      "Epoch: 17, Loss: 2.064756, Train accuracy: 0.286556, val accuracy: 0.286000\n",
      "Epoch: 18, Loss: 2.046149, Train accuracy: 0.291556, val accuracy: 0.296000\n",
      "Epoch: 19, Loss: 2.028719, Train accuracy: 0.311778, val accuracy: 0.315000\n"
     ]
    }
   ],
   "source": [
    "# TODO Implement learning rate decay inside Trainer.fit method\n",
    "# Decay should happen once per epoch\n",
    "\n",
    "model = TwoLayerNet(n_input = train_X.shape[1], n_output = 10, hidden_layer_size = 100, reg = 1e-2)\n",
    "dataset = Dataset(train_X, train_y, val_X, val_y)\n",
    "trainer = Trainer(model, dataset, SGD(), learning_rate_decay=0.99)\n",
    "\n",
    "initial_learning_rate = trainer.learning_rate\n",
    "loss_history, train_history, val_history = trainer.fit()\n",
    "\n",
    "assert trainer.learning_rate < initial_learning_rate, \"Learning rate should've been reduced\"\n",
    "assert trainer.learning_rate > 0.5*initial_learning_rate, \"Learning rate shouldn'tve been reduced that much!\""
   ]
  },
  {
   "cell_type": "markdown",
   "metadata": {},
   "source": [
    "# Накопление импульса (Momentum SGD)\n",
    "\n",
    "Другой большой класс оптимизаций - использование более эффективных методов градиентного спуска. Мы реализуем один из них - накопление импульса (Momentum SGD).\n",
    "\n",
    "Этот метод хранит скорость движения, использует градиент для ее изменения на каждом шаге, и изменяет веса пропорционально значению скорости.\n",
    "(Физическая аналогия: Вместо скорости градиенты теперь будут задавать ускорение, но будет присутствовать сила трения.)\n",
    "\n",
    "```\n",
    "velocity = momentum * velocity - learning_rate * gradient \n",
    "w = w + velocity\n",
    "```\n",
    "\n",
    "`momentum` здесь коэффициент затухания, который тоже является гиперпараметром (к счастью, для него часто есть хорошее значение по умолчанию, типичный диапазон -- 0.8-0.99).\n",
    "\n",
    "Несколько полезных ссылок, где метод разбирается более подробно:  \n",
    "http://cs231n.github.io/neural-networks-3/#sgd  \n",
    "https://distill.pub/2017/momentum/"
   ]
  },
  {
   "cell_type": "code",
   "execution_count": 12,
   "metadata": {},
   "outputs": [
    {
     "name": "stdout",
     "output_type": "stream",
     "text": [
      "Epoch: 0, Loss: 2.302241, Train accuracy: 0.196667, val accuracy: 0.206000\n",
      "Epoch: 1, Loss: 2.295443, Train accuracy: 0.196667, val accuracy: 0.206000\n",
      "Epoch: 2, Loss: 2.289403, Train accuracy: 0.196667, val accuracy: 0.206000\n",
      "Epoch: 3, Loss: 2.284045, Train accuracy: 0.196667, val accuracy: 0.206000\n",
      "Epoch: 4, Loss: 2.279292, Train accuracy: 0.196667, val accuracy: 0.206000\n",
      "Epoch: 5, Loss: 2.275079, Train accuracy: 0.196667, val accuracy: 0.206000\n",
      "Epoch: 6, Loss: 2.271333, Train accuracy: 0.196667, val accuracy: 0.206000\n",
      "Epoch: 7, Loss: 2.268012, Train accuracy: 0.196667, val accuracy: 0.206000\n",
      "Epoch: 8, Loss: 2.265062, Train accuracy: 0.196667, val accuracy: 0.206000\n",
      "Epoch: 9, Loss: 2.262438, Train accuracy: 0.196667, val accuracy: 0.206000\n",
      "Epoch: 10, Loss: 2.260103, Train accuracy: 0.196667, val accuracy: 0.206000\n",
      "Epoch: 11, Loss: 2.258022, Train accuracy: 0.196667, val accuracy: 0.206000\n",
      "Epoch: 12, Loss: 2.256164, Train accuracy: 0.196667, val accuracy: 0.206000\n",
      "Epoch: 13, Loss: 2.254506, Train accuracy: 0.196667, val accuracy: 0.206000\n",
      "Epoch: 14, Loss: 2.253018, Train accuracy: 0.196667, val accuracy: 0.206000\n",
      "Epoch: 15, Loss: 2.251680, Train accuracy: 0.196667, val accuracy: 0.206000\n",
      "Epoch: 16, Loss: 2.250476, Train accuracy: 0.196667, val accuracy: 0.206000\n",
      "Epoch: 17, Loss: 2.249390, Train accuracy: 0.196667, val accuracy: 0.206000\n",
      "Epoch: 18, Loss: 2.248406, Train accuracy: 0.196667, val accuracy: 0.206000\n",
      "Epoch: 19, Loss: 2.247514, Train accuracy: 0.196667, val accuracy: 0.206000\n"
     ]
    }
   ],
   "source": [
    "# TODO: Implement MomentumSGD.update function in optim.py\n",
    "\n",
    "model = TwoLayerNet(n_input = train_X.shape[1], n_output = 10, hidden_layer_size = 100, reg = 1e-2)\n",
    "dataset = Dataset(train_X, train_y, val_X, val_y)\n",
    "trainer = Trainer(model, dataset, MomentumSGD(), learning_rate=1e-4, learning_rate_decay=0.99)\n",
    "\n",
    "# You should see even better results than before!\n",
    "loss_history, train_history, val_history = trainer.fit()"
   ]
  },
  {
   "cell_type": "markdown",
   "metadata": {},
   "source": [
    "# Ну что, давайте уже тренировать сеть!"
   ]
  },
  {
   "cell_type": "markdown",
   "metadata": {},
   "source": [
    "## Последний тест - переобучимся (overfit) на маленьком наборе данных\n",
    "\n",
    "Хороший способ проверить, все ли реализовано корректно - переобучить сеть на маленьком наборе данных.  \n",
    "Наша модель обладает достаточной мощностью, чтобы приблизить маленький набор данных идеально, поэтому мы ожидаем, что на нем мы быстро дойдем до 100% точности на тренировочном наборе. \n",
    "\n",
    "Если этого не происходит, то где-то была допущена ошибка!"
   ]
  },
  {
   "cell_type": "code",
   "execution_count": 13,
   "metadata": {},
   "outputs": [
    {
     "name": "stdout",
     "output_type": "stream",
     "text": [
      "Epoch: 0, Loss: 2.338513, Train accuracy: 0.200000, val accuracy: 0.133333\n",
      "Epoch: 1, Loss: 2.320917, Train accuracy: 0.200000, val accuracy: 0.133333\n",
      "Epoch: 2, Loss: 2.309354, Train accuracy: 0.200000, val accuracy: 0.133333\n",
      "Epoch: 3, Loss: 2.302162, Train accuracy: 0.200000, val accuracy: 0.133333\n",
      "Epoch: 4, Loss: 2.291612, Train accuracy: 0.200000, val accuracy: 0.133333\n",
      "Epoch: 5, Loss: 2.279376, Train accuracy: 0.200000, val accuracy: 0.133333\n",
      "Epoch: 6, Loss: 2.272259, Train accuracy: 0.200000, val accuracy: 0.133333\n",
      "Epoch: 7, Loss: 2.249074, Train accuracy: 0.200000, val accuracy: 0.066667\n",
      "Epoch: 8, Loss: 2.224796, Train accuracy: 0.333333, val accuracy: 0.066667\n",
      "Epoch: 9, Loss: 2.160366, Train accuracy: 0.400000, val accuracy: 0.000000\n",
      "Epoch: 10, Loss: 2.077119, Train accuracy: 0.400000, val accuracy: 0.000000\n",
      "Epoch: 11, Loss: 2.023314, Train accuracy: 0.400000, val accuracy: 0.000000\n",
      "Epoch: 12, Loss: 1.990641, Train accuracy: 0.333333, val accuracy: 0.000000\n",
      "Epoch: 13, Loss: 1.882378, Train accuracy: 0.333333, val accuracy: 0.000000\n",
      "Epoch: 14, Loss: 1.865913, Train accuracy: 0.400000, val accuracy: 0.000000\n",
      "Epoch: 15, Loss: 1.850085, Train accuracy: 0.333333, val accuracy: 0.000000\n",
      "Epoch: 16, Loss: 1.830226, Train accuracy: 0.400000, val accuracy: 0.000000\n",
      "Epoch: 17, Loss: 1.838123, Train accuracy: 0.400000, val accuracy: 0.000000\n",
      "Epoch: 18, Loss: 1.812237, Train accuracy: 0.400000, val accuracy: 0.000000\n",
      "Epoch: 19, Loss: 1.816095, Train accuracy: 0.466667, val accuracy: 0.000000\n",
      "Epoch: 20, Loss: 1.761647, Train accuracy: 0.400000, val accuracy: 0.000000\n",
      "Epoch: 21, Loss: 1.769044, Train accuracy: 0.400000, val accuracy: 0.000000\n",
      "Epoch: 22, Loss: 1.771029, Train accuracy: 0.400000, val accuracy: 0.066667\n",
      "Epoch: 23, Loss: 1.753963, Train accuracy: 0.466667, val accuracy: 0.000000\n",
      "Epoch: 24, Loss: 1.715191, Train accuracy: 0.466667, val accuracy: 0.000000\n",
      "Epoch: 25, Loss: 1.720617, Train accuracy: 0.466667, val accuracy: 0.000000\n",
      "Epoch: 26, Loss: 1.700544, Train accuracy: 0.466667, val accuracy: 0.066667\n",
      "Epoch: 27, Loss: 1.720224, Train accuracy: 0.466667, val accuracy: 0.066667\n",
      "Epoch: 28, Loss: 1.739972, Train accuracy: 0.466667, val accuracy: 0.000000\n",
      "Epoch: 29, Loss: 1.722064, Train accuracy: 0.466667, val accuracy: 0.000000\n",
      "Epoch: 30, Loss: 1.677093, Train accuracy: 0.533333, val accuracy: 0.000000\n",
      "Epoch: 31, Loss: 1.659074, Train accuracy: 0.533333, val accuracy: 0.066667\n",
      "Epoch: 32, Loss: 1.643295, Train accuracy: 0.533333, val accuracy: 0.066667\n",
      "Epoch: 33, Loss: 1.650655, Train accuracy: 0.533333, val accuracy: 0.066667\n",
      "Epoch: 34, Loss: 1.648200, Train accuracy: 0.600000, val accuracy: 0.000000\n",
      "Epoch: 35, Loss: 1.605776, Train accuracy: 0.600000, val accuracy: 0.066667\n",
      "Epoch: 36, Loss: 1.613467, Train accuracy: 0.600000, val accuracy: 0.066667\n",
      "Epoch: 37, Loss: 1.603818, Train accuracy: 0.600000, val accuracy: 0.066667\n",
      "Epoch: 38, Loss: 1.607823, Train accuracy: 0.600000, val accuracy: 0.066667\n",
      "Epoch: 39, Loss: 1.557173, Train accuracy: 0.600000, val accuracy: 0.066667\n",
      "Epoch: 40, Loss: 1.571724, Train accuracy: 0.666667, val accuracy: 0.066667\n",
      "Epoch: 41, Loss: 1.563613, Train accuracy: 0.666667, val accuracy: 0.066667\n",
      "Epoch: 42, Loss: 1.535058, Train accuracy: 0.666667, val accuracy: 0.066667\n",
      "Epoch: 43, Loss: 1.553322, Train accuracy: 0.666667, val accuracy: 0.066667\n",
      "Epoch: 44, Loss: 1.521862, Train accuracy: 0.666667, val accuracy: 0.066667\n",
      "Epoch: 45, Loss: 1.551279, Train accuracy: 0.733333, val accuracy: 0.066667\n",
      "Epoch: 46, Loss: 1.533226, Train accuracy: 0.733333, val accuracy: 0.066667\n",
      "Epoch: 47, Loss: 1.514212, Train accuracy: 0.733333, val accuracy: 0.066667\n",
      "Epoch: 48, Loss: 1.489937, Train accuracy: 0.800000, val accuracy: 0.066667\n",
      "Epoch: 49, Loss: 1.510153, Train accuracy: 0.733333, val accuracy: 0.133333\n",
      "Epoch: 50, Loss: 1.522101, Train accuracy: 0.733333, val accuracy: 0.000000\n",
      "Epoch: 51, Loss: 1.464724, Train accuracy: 0.733333, val accuracy: 0.066667\n",
      "Epoch: 52, Loss: 1.432964, Train accuracy: 0.733333, val accuracy: 0.066667\n",
      "Epoch: 53, Loss: 1.423723, Train accuracy: 0.733333, val accuracy: 0.066667\n",
      "Epoch: 54, Loss: 1.432805, Train accuracy: 0.733333, val accuracy: 0.066667\n",
      "Epoch: 55, Loss: 1.411636, Train accuracy: 0.733333, val accuracy: 0.066667\n",
      "Epoch: 56, Loss: 1.431253, Train accuracy: 0.666667, val accuracy: 0.000000\n",
      "Epoch: 57, Loss: 1.424014, Train accuracy: 0.733333, val accuracy: 0.066667\n",
      "Epoch: 58, Loss: 1.431763, Train accuracy: 0.733333, val accuracy: 0.066667\n",
      "Epoch: 59, Loss: 1.393281, Train accuracy: 0.733333, val accuracy: 0.066667\n",
      "Epoch: 60, Loss: 1.386942, Train accuracy: 0.733333, val accuracy: 0.066667\n",
      "Epoch: 61, Loss: 1.392408, Train accuracy: 0.733333, val accuracy: 0.066667\n",
      "Epoch: 62, Loss: 1.389754, Train accuracy: 0.733333, val accuracy: 0.066667\n",
      "Epoch: 63, Loss: 1.371687, Train accuracy: 0.733333, val accuracy: 0.066667\n",
      "Epoch: 64, Loss: 1.383909, Train accuracy: 0.733333, val accuracy: 0.066667\n",
      "Epoch: 65, Loss: 1.382041, Train accuracy: 0.733333, val accuracy: 0.066667\n",
      "Epoch: 66, Loss: 1.392579, Train accuracy: 0.733333, val accuracy: 0.000000\n",
      "Epoch: 67, Loss: 1.378158, Train accuracy: 0.733333, val accuracy: 0.066667\n",
      "Epoch: 68, Loss: 1.377792, Train accuracy: 0.733333, val accuracy: 0.066667\n",
      "Epoch: 69, Loss: 1.390032, Train accuracy: 0.733333, val accuracy: 0.066667\n",
      "Epoch: 70, Loss: 1.372182, Train accuracy: 0.733333, val accuracy: 0.066667\n",
      "Epoch: 71, Loss: 1.372677, Train accuracy: 0.733333, val accuracy: 0.000000\n",
      "Epoch: 72, Loss: 1.375066, Train accuracy: 0.733333, val accuracy: 0.066667\n",
      "Epoch: 73, Loss: 1.363849, Train accuracy: 0.733333, val accuracy: 0.066667\n",
      "Epoch: 74, Loss: 1.382682, Train accuracy: 0.733333, val accuracy: 0.066667\n",
      "Epoch: 75, Loss: 1.397308, Train accuracy: 0.800000, val accuracy: 0.066667\n",
      "Epoch: 76, Loss: 1.371160, Train accuracy: 0.800000, val accuracy: 0.000000\n",
      "Epoch: 77, Loss: 1.382351, Train accuracy: 0.800000, val accuracy: 0.066667\n",
      "Epoch: 78, Loss: 1.391005, Train accuracy: 0.800000, val accuracy: 0.066667\n",
      "Epoch: 79, Loss: 1.385355, Train accuracy: 0.800000, val accuracy: 0.066667\n",
      "Epoch: 80, Loss: 1.347869, Train accuracy: 0.866667, val accuracy: 0.066667\n",
      "Epoch: 81, Loss: 1.356205, Train accuracy: 0.866667, val accuracy: 0.066667\n",
      "Epoch: 82, Loss: 1.400631, Train accuracy: 0.866667, val accuracy: 0.000000\n",
      "Epoch: 83, Loss: 1.365190, Train accuracy: 0.866667, val accuracy: 0.000000\n",
      "Epoch: 84, Loss: 1.349667, Train accuracy: 0.866667, val accuracy: 0.066667\n",
      "Epoch: 85, Loss: 1.357898, Train accuracy: 0.866667, val accuracy: 0.066667\n",
      "Epoch: 86, Loss: 1.365172, Train accuracy: 0.933333, val accuracy: 0.066667\n",
      "Epoch: 87, Loss: 1.370781, Train accuracy: 0.933333, val accuracy: 0.066667\n",
      "Epoch: 88, Loss: 1.346892, Train accuracy: 0.866667, val accuracy: 0.066667\n",
      "Epoch: 89, Loss: 1.352720, Train accuracy: 0.933333, val accuracy: 0.066667\n",
      "Epoch: 90, Loss: 1.341590, Train accuracy: 0.933333, val accuracy: 0.066667\n",
      "Epoch: 91, Loss: 1.339883, Train accuracy: 0.933333, val accuracy: 0.066667\n",
      "Epoch: 92, Loss: 1.344367, Train accuracy: 0.933333, val accuracy: 0.066667\n",
      "Epoch: 93, Loss: 1.359988, Train accuracy: 0.933333, val accuracy: 0.000000\n",
      "Epoch: 94, Loss: 1.343300, Train accuracy: 0.933333, val accuracy: 0.066667\n",
      "Epoch: 95, Loss: 1.337527, Train accuracy: 0.933333, val accuracy: 0.066667\n",
      "Epoch: 96, Loss: 1.345549, Train accuracy: 0.933333, val accuracy: 0.066667\n",
      "Epoch: 97, Loss: 1.353123, Train accuracy: 0.933333, val accuracy: 0.066667\n",
      "Epoch: 98, Loss: 1.332500, Train accuracy: 0.933333, val accuracy: 0.066667\n",
      "Epoch: 99, Loss: 1.333938, Train accuracy: 0.933333, val accuracy: 0.066667\n",
      "Epoch: 100, Loss: 1.330066, Train accuracy: 0.933333, val accuracy: 0.066667\n",
      "Epoch: 101, Loss: 1.325719, Train accuracy: 0.933333, val accuracy: 0.066667\n",
      "Epoch: 102, Loss: 1.328516, Train accuracy: 0.933333, val accuracy: 0.066667\n",
      "Epoch: 103, Loss: 1.320576, Train accuracy: 0.933333, val accuracy: 0.066667\n",
      "Epoch: 104, Loss: 1.324892, Train accuracy: 0.933333, val accuracy: 0.066667\n",
      "Epoch: 105, Loss: 1.310105, Train accuracy: 0.933333, val accuracy: 0.066667\n",
      "Epoch: 106, Loss: 1.320430, Train accuracy: 0.933333, val accuracy: 0.000000\n",
      "Epoch: 107, Loss: 1.308837, Train accuracy: 0.933333, val accuracy: 0.066667\n"
     ]
    },
    {
     "name": "stdout",
     "output_type": "stream",
     "text": [
      "Epoch: 108, Loss: 1.296569, Train accuracy: 0.933333, val accuracy: 0.066667\n",
      "Epoch: 109, Loss: 1.298800, Train accuracy: 0.933333, val accuracy: 0.000000\n",
      "Epoch: 110, Loss: 1.305147, Train accuracy: 1.000000, val accuracy: 0.066667\n",
      "Epoch: 111, Loss: 1.292964, Train accuracy: 0.933333, val accuracy: 0.000000\n",
      "Epoch: 112, Loss: 1.294184, Train accuracy: 1.000000, val accuracy: 0.000000\n",
      "Epoch: 113, Loss: 1.283020, Train accuracy: 0.933333, val accuracy: 0.000000\n",
      "Epoch: 114, Loss: 1.286336, Train accuracy: 0.933333, val accuracy: 0.000000\n",
      "Epoch: 115, Loss: 1.311874, Train accuracy: 1.000000, val accuracy: 0.000000\n",
      "Epoch: 116, Loss: 1.307945, Train accuracy: 0.933333, val accuracy: 0.000000\n",
      "Epoch: 117, Loss: 1.278573, Train accuracy: 1.000000, val accuracy: 0.000000\n",
      "Epoch: 118, Loss: 1.274128, Train accuracy: 1.000000, val accuracy: 0.000000\n",
      "Epoch: 119, Loss: 1.299602, Train accuracy: 1.000000, val accuracy: 0.000000\n",
      "Epoch: 120, Loss: 1.308194, Train accuracy: 0.933333, val accuracy: 0.000000\n",
      "Epoch: 121, Loss: 1.284072, Train accuracy: 1.000000, val accuracy: 0.000000\n",
      "Epoch: 122, Loss: 1.268346, Train accuracy: 1.000000, val accuracy: 0.000000\n",
      "Epoch: 123, Loss: 1.279644, Train accuracy: 1.000000, val accuracy: 0.000000\n",
      "Epoch: 124, Loss: 1.261962, Train accuracy: 1.000000, val accuracy: 0.000000\n",
      "Epoch: 125, Loss: 1.286428, Train accuracy: 1.000000, val accuracy: 0.000000\n",
      "Epoch: 126, Loss: 1.256874, Train accuracy: 1.000000, val accuracy: 0.000000\n",
      "Epoch: 127, Loss: 1.267382, Train accuracy: 1.000000, val accuracy: 0.000000\n",
      "Epoch: 128, Loss: 1.266512, Train accuracy: 1.000000, val accuracy: 0.000000\n",
      "Epoch: 129, Loss: 1.268048, Train accuracy: 1.000000, val accuracy: 0.000000\n",
      "Epoch: 130, Loss: 1.267290, Train accuracy: 1.000000, val accuracy: 0.000000\n",
      "Epoch: 131, Loss: 1.290552, Train accuracy: 1.000000, val accuracy: 0.000000\n",
      "Epoch: 132, Loss: 1.297965, Train accuracy: 1.000000, val accuracy: 0.000000\n",
      "Epoch: 133, Loss: 1.282717, Train accuracy: 0.933333, val accuracy: 0.000000\n",
      "Epoch: 134, Loss: 1.277372, Train accuracy: 1.000000, val accuracy: 0.000000\n",
      "Epoch: 135, Loss: 1.276435, Train accuracy: 1.000000, val accuracy: 0.000000\n",
      "Epoch: 136, Loss: 1.265663, Train accuracy: 1.000000, val accuracy: 0.000000\n",
      "Epoch: 137, Loss: 1.253758, Train accuracy: 1.000000, val accuracy: 0.000000\n",
      "Epoch: 138, Loss: 1.259296, Train accuracy: 1.000000, val accuracy: 0.000000\n",
      "Epoch: 139, Loss: 1.245549, Train accuracy: 1.000000, val accuracy: 0.000000\n",
      "Epoch: 140, Loss: 1.263141, Train accuracy: 1.000000, val accuracy: 0.000000\n",
      "Epoch: 141, Loss: 1.254392, Train accuracy: 1.000000, val accuracy: 0.000000\n",
      "Epoch: 142, Loss: 1.265931, Train accuracy: 1.000000, val accuracy: 0.000000\n",
      "Epoch: 143, Loss: 1.259925, Train accuracy: 1.000000, val accuracy: 0.000000\n",
      "Epoch: 144, Loss: 1.262231, Train accuracy: 1.000000, val accuracy: 0.000000\n",
      "Epoch: 145, Loss: 1.250383, Train accuracy: 1.000000, val accuracy: 0.000000\n",
      "Epoch: 146, Loss: 1.259467, Train accuracy: 1.000000, val accuracy: 0.000000\n",
      "Epoch: 147, Loss: 1.259928, Train accuracy: 1.000000, val accuracy: 0.000000\n",
      "Epoch: 148, Loss: 1.245491, Train accuracy: 1.000000, val accuracy: 0.000000\n",
      "Epoch: 149, Loss: 1.277881, Train accuracy: 1.000000, val accuracy: 0.000000\n"
     ]
    }
   ],
   "source": [
    "data_size = 15\n",
    "model = TwoLayerNet(n_input = train_X.shape[1], n_output = 10, hidden_layer_size = 100, reg = 1e-1)\n",
    "dataset = Dataset(train_X[:data_size], train_y[:data_size], val_X[:data_size], val_y[:data_size])\n",
    "trainer = Trainer(model, dataset, SGD(), learning_rate=1e-1, num_epochs=150, batch_size=5)\n",
    "\n",
    "# You should expect this to reach 1.0 training accuracy \n",
    "loss_history, train_history, val_history = trainer.fit()"
   ]
  },
  {
   "cell_type": "markdown",
   "metadata": {},
   "source": [
    "Теперь найдем гипепараметры, для которых этот процесс сходится быстрее.\n",
    "Если все реализовано корректно, то существуют параметры, при которых процесс сходится в **20** эпох или еще быстрее.\n",
    "Найдите их!"
   ]
  },
  {
   "cell_type": "code",
   "execution_count": 14,
   "metadata": {},
   "outputs": [
    {
     "name": "stdout",
     "output_type": "stream",
     "text": [
      "Epoch: 0, Loss: 2.322112, Train accuracy: 0.200000, val accuracy: 0.066667\n",
      "Epoch: 1, Loss: 2.300698, Train accuracy: 0.200000, val accuracy: 0.066667\n",
      "Epoch: 2, Loss: 2.253876, Train accuracy: 0.400000, val accuracy: 0.000000\n",
      "Epoch: 3, Loss: 2.194583, Train accuracy: 0.400000, val accuracy: 0.000000\n",
      "Epoch: 4, Loss: 1.803323, Train accuracy: 0.333333, val accuracy: 0.000000\n",
      "Epoch: 5, Loss: 2.010794, Train accuracy: 0.466667, val accuracy: 0.000000\n",
      "Epoch: 6, Loss: 1.670778, Train accuracy: 0.466667, val accuracy: 0.000000\n",
      "Epoch: 7, Loss: 1.674450, Train accuracy: 0.400000, val accuracy: 0.066667\n",
      "Epoch: 8, Loss: 1.752120, Train accuracy: 0.333333, val accuracy: 0.066667\n",
      "Epoch: 9, Loss: 1.896332, Train accuracy: 0.600000, val accuracy: 0.000000\n",
      "Epoch: 10, Loss: 1.531563, Train accuracy: 0.666667, val accuracy: 0.000000\n",
      "Epoch: 11, Loss: 1.212442, Train accuracy: 0.733333, val accuracy: 0.000000\n",
      "Epoch: 12, Loss: 1.097441, Train accuracy: 0.600000, val accuracy: 0.000000\n",
      "Epoch: 13, Loss: 1.430680, Train accuracy: 0.600000, val accuracy: 0.000000\n",
      "Epoch: 14, Loss: 1.308410, Train accuracy: 0.733333, val accuracy: 0.000000\n",
      "Epoch: 15, Loss: 0.864321, Train accuracy: 0.800000, val accuracy: 0.000000\n",
      "Epoch: 16, Loss: 0.683717, Train accuracy: 0.800000, val accuracy: 0.000000\n",
      "Epoch: 17, Loss: 0.622506, Train accuracy: 0.866667, val accuracy: 0.000000\n",
      "Epoch: 18, Loss: 0.611082, Train accuracy: 1.000000, val accuracy: 0.000000\n",
      "Epoch: 19, Loss: 0.503422, Train accuracy: 1.000000, val accuracy: 0.000000\n"
     ]
    }
   ],
   "source": [
    "# Now, tweak some hyper parameters and make it train to 1.0 accuracy in 20 epochs or less\n",
    "\n",
    "model = TwoLayerNet(n_input = train_X.shape[1], n_output = 10, hidden_layer_size = 200, reg = 1e-2)\n",
    "dataset = Dataset(train_X[:data_size], train_y[:data_size], val_X[:data_size], val_y[:data_size])\n",
    "# TODO: Change any hyperparamers or optimizators to reach training accuracy in 20 epochs\n",
    "trainer = Trainer(\n",
    "    model,\n",
    "    dataset,\n",
    "    SGD(),\n",
    "    learning_rate=1e-1,\n",
    "    learning_rate_decay=0.9999,\n",
    "    num_epochs=20,\n",
    "    batch_size=2\n",
    ")\n",
    "\n",
    "loss_history, train_history, val_history = trainer.fit()"
   ]
  },
  {
   "cell_type": "markdown",
   "metadata": {},
   "source": [
    "# Итак, основное мероприятие!\n",
    "\n",
    "Натренируйте лучшую нейросеть! Можно добавлять и изменять параметры, менять количество нейронов в слоях сети и как угодно экспериментировать. \n",
    "\n",
    "Добейтесь точности лучше **60%** на validation set."
   ]
  },
  {
   "cell_type": "code",
   "execution_count": 15,
   "metadata": {
    "scrolled": true
   },
   "outputs": [],
   "source": [
    "# Let's train the best one-hidden-layer network we can\n",
    "\n",
    "best_classifier = None\n",
    "best_val_accuracy = None\n",
    "\n",
    "loss_history = []\n",
    "train_history = []\n",
    "val_history = []\n",
    "\n",
    "# TODO find the best hyperparameters to train the network\n",
    "# Don't hesitate to add new values to the arrays above, perform experiments, use any tricks you want\n",
    "# You should expect to get to at least 40% of valudation accuracy\n",
    "# Save loss/train/history of the best classifier to the variables above\n",
    "\n",
    "dataset = Dataset(train_X, train_y, val_X, val_y)\n",
    "\n",
    "\n",
    "def get_accuracy_for_TwoLayerNet_with_params(\n",
    "    hidden_layer_size_in_use,\n",
    "    reg_strength_in_use,\n",
    "    learning_rate_in_use,\n",
    "    learning_rate_decay_in_use,\n",
    "    batch_size_in_use,\n",
    "    num_epochs_in_use\n",
    "):\n",
    "    model = TwoLayerNet(\n",
    "        n_input = train_X.shape[1],\n",
    "        n_output = 10,\n",
    "        hidden_layer_size = hidden_layer_size_in_use,\n",
    "        reg = reg_strength_in_use\n",
    "    )\n",
    "    trainer = Trainer(\n",
    "        model,\n",
    "        dataset,\n",
    "        MomentumSGD(),\n",
    "        learning_rate=learning_rate_in_use,\n",
    "        learning_rate_decay=learning_rate_decay_in_use,\n",
    "        batch_size=batch_size_in_use,\n",
    "        num_epochs=num_epochs_in_use\n",
    "    )\n",
    "    loss_history, train_history, val_history = trainer.fit(False)\n",
    "    return max(val_history)"
   ]
  },
  {
   "cell_type": "code",
   "execution_count": 16,
   "metadata": {},
   "outputs": [
    {
     "name": "stdout",
     "output_type": "stream",
     "text": [
      "hidden_layer_size\n",
      "64\t<=>\t0.762\n",
      "96\t<=>\t0.762\n",
      "128\t<=>\t0.766\n",
      "172\t<=>\t0.772\n",
      "256\t<=>\t0.766\n",
      "reg_strength\n",
      "0.1\t<=>\t0.206\n",
      "0.01\t<=>\t0.667\n",
      "0.001\t<=>\t0.768\n",
      "0.0001\t<=>\t0.769\n",
      "1e-05\t<=>\t0.76\n",
      "learning_rate\n",
      "0.1\t<=>\t0.732\n",
      "0.01\t<=>\t0.768\n",
      "0.001\t<=>\t0.379\n",
      "0.0001\t<=>\t0.206\n",
      "1e-05\t<=>\t0.206\n",
      "learning_rate_decay\n",
      "0.9\t<=>\t0.655\n",
      "0.99\t<=>\t0.769\n",
      "0.999\t<=>\t0.772\n",
      "0.9999\t<=>\t0.776\n",
      "1\t<=>\t0.783\n",
      "batch_size\n",
      "16\t<=>\t0.76\n",
      "64\t<=>\t0.769\n",
      "128\t<=>\t0.751\n",
      "256\t<=>\t0.705\n",
      "512\t<=>\t0.484\n",
      "num_epoch\n",
      "25\t<=>\t0.735\n",
      "50\t<=>\t0.772\n",
      "75\t<=>\t0.777\n"
     ]
    }
   ],
   "source": [
    "# search best hyper params\n",
    "\n",
    "best_params = [128, 1e-3, 1e-2, 0.999, 64, 50]  # standard params\n",
    "\n",
    "hidden_layer_sizes = [64, 96, 128, 172, 256]\n",
    "reg_strengths = [1e-1, 1e-2, 1e-3, 1e-4, 1e-5]\n",
    "learning_rates = [1e-1, 1e-2, 1e-3, 1e-4, 1e-5]\n",
    "learning_rates_decay = [0.9, 0.99, 0.999, 0.9999, 1]\n",
    "batch_sizes = [16, 64, 128, 256, 512]\n",
    "num_epochs = [25, 50, 75]\n",
    "hyper_params = {\n",
    "    'hidden_layer_size': hidden_layer_sizes,\n",
    "    'reg_strength': reg_strengths,\n",
    "    'learning_rate': learning_rates,\n",
    "    'learning_rate_decay': learning_rates_decay,\n",
    "    'batch_size': batch_sizes,\n",
    "    'num_epoch': num_epochs,\n",
    "}\n",
    "dict_hp = {name_param: {} for name_param in hyper_params}\n",
    "index = 0\n",
    "for name_param, hyper_param_list in hyper_params.items():\n",
    "    print(name_param)\n",
    "    for hyper_param in hyper_param_list:\n",
    "        use_params = best_params.copy()\n",
    "        use_params[index] = hyper_param\n",
    "        val_accuracy = get_accuracy_for_TwoLayerNet_with_params(*use_params)\n",
    "        print(f'{hyper_param}\\t<=>\\t{val_accuracy}')\n",
    "        dict_hp[name_param].update({hyper_param: val_accuracy})\n",
    "    max_accuracy = 0\n",
    "    for hyper_param, val_accuracy in dict_hp[name_param].items():\n",
    "        if val_accuracy > max_accuracy:\n",
    "            best_params[index] = hyper_param\n",
    "            max_accuracy = val_accuracy\n",
    "    index += 1"
   ]
  },
  {
   "cell_type": "code",
   "execution_count": 17,
   "metadata": {},
   "outputs": [
    {
     "name": "stdout",
     "output_type": "stream",
     "text": [
      "best hyper params:\n",
      "hidden_layer_size\t<=>\t172\n",
      "reg_strength\t<=>\t0.0001\n",
      "learning_rate\t<=>\t0.01\n",
      "learning_rate_decay\t<=>\t1\n",
      "batch_size\t<=>\t64\n",
      "num_epoch\t<=>\t75\n"
     ]
    }
   ],
   "source": [
    "# show best hyper params\n",
    "index = 0\n",
    "print('best hyper params:')\n",
    "for name_param in hyper_params:\n",
    "    print(f'{name_param}\\t<=>\\t{best_params[index]}')\n",
    "    index += 1"
   ]
  },
  {
   "cell_type": "code",
   "execution_count": 18,
   "metadata": {},
   "outputs": [
    {
     "name": "stdout",
     "output_type": "stream",
     "text": [
      "Epoch: 0, Loss: 2.397349, Train accuracy: 0.222778, val accuracy: 0.230000\n",
      "Epoch: 1, Loss: 2.151361, Train accuracy: 0.320889, val accuracy: 0.318000\n",
      "Epoch: 2, Loss: 2.026317, Train accuracy: 0.386778, val accuracy: 0.384000\n",
      "Epoch: 3, Loss: 1.938375, Train accuracy: 0.443222, val accuracy: 0.434000\n",
      "Epoch: 4, Loss: 1.882960, Train accuracy: 0.483556, val accuracy: 0.478000\n",
      "Epoch: 5, Loss: 1.847732, Train accuracy: 0.516444, val accuracy: 0.520000\n",
      "Epoch: 6, Loss: 1.822118, Train accuracy: 0.522000, val accuracy: 0.535000\n",
      "Epoch: 7, Loss: 1.806241, Train accuracy: 0.568889, val accuracy: 0.573000\n",
      "Epoch: 8, Loss: 1.794000, Train accuracy: 0.575667, val accuracy: 0.582000\n",
      "Epoch: 9, Loss: 1.783579, Train accuracy: 0.596333, val accuracy: 0.596000\n",
      "Epoch: 10, Loss: 1.782143, Train accuracy: 0.624111, val accuracy: 0.621000\n",
      "Epoch: 11, Loss: 1.769676, Train accuracy: 0.620000, val accuracy: 0.611000\n",
      "Epoch: 12, Loss: 1.766583, Train accuracy: 0.630333, val accuracy: 0.613000\n",
      "Epoch: 13, Loss: 1.763114, Train accuracy: 0.621778, val accuracy: 0.613000\n",
      "Epoch: 14, Loss: 1.764045, Train accuracy: 0.633778, val accuracy: 0.634000\n",
      "Epoch: 15, Loss: 1.762109, Train accuracy: 0.639667, val accuracy: 0.648000\n",
      "Epoch: 16, Loss: 1.756745, Train accuracy: 0.652444, val accuracy: 0.648000\n",
      "Epoch: 17, Loss: 1.758327, Train accuracy: 0.641889, val accuracy: 0.630000\n",
      "Epoch: 18, Loss: 1.760646, Train accuracy: 0.639889, val accuracy: 0.631000\n",
      "Epoch: 19, Loss: 1.760229, Train accuracy: 0.639444, val accuracy: 0.628000\n",
      "Epoch: 20, Loss: 1.757080, Train accuracy: 0.632778, val accuracy: 0.637000\n",
      "Epoch: 21, Loss: 1.753445, Train accuracy: 0.643222, val accuracy: 0.646000\n",
      "Epoch: 22, Loss: 1.754524, Train accuracy: 0.648000, val accuracy: 0.645000\n",
      "Epoch: 23, Loss: 1.755877, Train accuracy: 0.664556, val accuracy: 0.646000\n",
      "Epoch: 24, Loss: 1.756599, Train accuracy: 0.646778, val accuracy: 0.623000\n",
      "Epoch: 25, Loss: 1.756637, Train accuracy: 0.656556, val accuracy: 0.653000\n",
      "Epoch: 26, Loss: 1.751762, Train accuracy: 0.657889, val accuracy: 0.667000\n",
      "Epoch: 27, Loss: 1.751051, Train accuracy: 0.647333, val accuracy: 0.644000\n",
      "Epoch: 28, Loss: 1.752179, Train accuracy: 0.665111, val accuracy: 0.670000\n",
      "Epoch: 29, Loss: 1.752991, Train accuracy: 0.663889, val accuracy: 0.641000\n",
      "Epoch: 30, Loss: 1.749813, Train accuracy: 0.657000, val accuracy: 0.656000\n",
      "Epoch: 31, Loss: 1.752060, Train accuracy: 0.658111, val accuracy: 0.647000\n",
      "Epoch: 32, Loss: 1.752531, Train accuracy: 0.642778, val accuracy: 0.632000\n",
      "Epoch: 33, Loss: 1.753656, Train accuracy: 0.649556, val accuracy: 0.647000\n",
      "Epoch: 34, Loss: 1.754808, Train accuracy: 0.646667, val accuracy: 0.639000\n",
      "Epoch: 35, Loss: 1.752168, Train accuracy: 0.650889, val accuracy: 0.635000\n",
      "Epoch: 36, Loss: 1.750093, Train accuracy: 0.670556, val accuracy: 0.651000\n",
      "Epoch: 37, Loss: 1.751934, Train accuracy: 0.668667, val accuracy: 0.657000\n",
      "Epoch: 38, Loss: 1.751398, Train accuracy: 0.671444, val accuracy: 0.658000\n",
      "Epoch: 39, Loss: 1.750680, Train accuracy: 0.661333, val accuracy: 0.657000\n",
      "Epoch: 40, Loss: 1.748808, Train accuracy: 0.665667, val accuracy: 0.654000\n",
      "Epoch: 41, Loss: 1.749835, Train accuracy: 0.653111, val accuracy: 0.650000\n",
      "Epoch: 42, Loss: 1.753730, Train accuracy: 0.666000, val accuracy: 0.653000\n",
      "Epoch: 43, Loss: 1.752505, Train accuracy: 0.665222, val accuracy: 0.654000\n",
      "Epoch: 44, Loss: 1.750239, Train accuracy: 0.652889, val accuracy: 0.643000\n",
      "Epoch: 45, Loss: 1.754568, Train accuracy: 0.661444, val accuracy: 0.639000\n",
      "Epoch: 46, Loss: 1.752839, Train accuracy: 0.642667, val accuracy: 0.624000\n",
      "Epoch: 47, Loss: 1.749935, Train accuracy: 0.664556, val accuracy: 0.642000\n",
      "Epoch: 48, Loss: 1.752721, Train accuracy: 0.660778, val accuracy: 0.654000\n",
      "Epoch: 49, Loss: 1.751915, Train accuracy: 0.677222, val accuracy: 0.663000\n",
      "Epoch: 50, Loss: 1.750434, Train accuracy: 0.656556, val accuracy: 0.647000\n",
      "Epoch: 51, Loss: 1.751578, Train accuracy: 0.675000, val accuracy: 0.655000\n",
      "Epoch: 52, Loss: 1.750685, Train accuracy: 0.667556, val accuracy: 0.647000\n",
      "Epoch: 53, Loss: 1.749005, Train accuracy: 0.642556, val accuracy: 0.638000\n",
      "Epoch: 54, Loss: 1.754053, Train accuracy: 0.684111, val accuracy: 0.677000\n",
      "Epoch: 55, Loss: 1.754419, Train accuracy: 0.666000, val accuracy: 0.656000\n",
      "Epoch: 56, Loss: 1.747809, Train accuracy: 0.678889, val accuracy: 0.661000\n",
      "Epoch: 57, Loss: 1.749148, Train accuracy: 0.677444, val accuracy: 0.672000\n",
      "Epoch: 58, Loss: 1.748975, Train accuracy: 0.660889, val accuracy: 0.639000\n",
      "Epoch: 59, Loss: 1.748838, Train accuracy: 0.671222, val accuracy: 0.661000\n",
      "Epoch: 60, Loss: 1.749141, Train accuracy: 0.682444, val accuracy: 0.661000\n",
      "Epoch: 61, Loss: 1.748443, Train accuracy: 0.674556, val accuracy: 0.665000\n",
      "Epoch: 62, Loss: 1.748620, Train accuracy: 0.655000, val accuracy: 0.650000\n",
      "Epoch: 63, Loss: 1.747839, Train accuracy: 0.674778, val accuracy: 0.664000\n",
      "Epoch: 64, Loss: 1.748359, Train accuracy: 0.671222, val accuracy: 0.663000\n",
      "Epoch: 65, Loss: 1.749536, Train accuracy: 0.672889, val accuracy: 0.653000\n",
      "Epoch: 66, Loss: 1.749209, Train accuracy: 0.662667, val accuracy: 0.643000\n",
      "Epoch: 67, Loss: 1.746825, Train accuracy: 0.663778, val accuracy: 0.648000\n",
      "Epoch: 68, Loss: 1.746067, Train accuracy: 0.653667, val accuracy: 0.633000\n",
      "Epoch: 69, Loss: 1.750207, Train accuracy: 0.665444, val accuracy: 0.651000\n",
      "Epoch: 70, Loss: 1.749220, Train accuracy: 0.668222, val accuracy: 0.664000\n",
      "Epoch: 71, Loss: 1.747306, Train accuracy: 0.673889, val accuracy: 0.659000\n",
      "Epoch: 72, Loss: 1.747936, Train accuracy: 0.670778, val accuracy: 0.664000\n",
      "Epoch: 73, Loss: 1.748086, Train accuracy: 0.667111, val accuracy: 0.653000\n",
      "Epoch: 74, Loss: 1.746694, Train accuracy: 0.682333, val accuracy: 0.659000\n"
     ]
    }
   ],
   "source": [
    "# create best classifier\n",
    "\n",
    "dataset = Dataset(train_X, train_y, val_X, val_y)\n",
    "best_classifier = TwoLayerNet(\n",
    "    n_input = train_X.shape[1],\n",
    "    n_output = 10,\n",
    "    hidden_layer_size = best_params[0],\n",
    "    reg = best_params[1]\n",
    ")\n",
    "trainer = Trainer(\n",
    "    best_classifier,\n",
    "    dataset,\n",
    "    MomentumSGD(),\n",
    "    learning_rate=best_params[2],\n",
    "    learning_rate_decay=best_params[3],\n",
    "    batch_size=best_params[4],\n",
    "    num_epochs=best_params[5]\n",
    ")\n",
    "loss_history, train_history, val_history = trainer.fit(True)\n",
    "best_val_accuracy = max(val_history)\n"
   ]
  },
  {
   "cell_type": "code",
   "execution_count": 19,
   "metadata": {},
   "outputs": [
    {
     "name": "stdout",
     "output_type": "stream",
     "text": [
      "best validation accuracy achieved: 0.677000\n"
     ]
    },
    {
     "data": {
      "text/plain": [
       "[<matplotlib.lines.Line2D at 0x247d1700af0>]"
      ]
     },
     "execution_count": 19,
     "metadata": {},
     "output_type": "execute_result"
    },
    {
     "data": {
      "image/png": "[encoded data removed]",
      "text/plain": [
       "<Figure size 1080x504 with 2 Axes>"
      ]
     },
     "metadata": {
      "needs_background": "light"
     },
     "output_type": "display_data"
    }
   ],
   "source": [
    "print('best validation accuracy achieved: %f' % best_val_accuracy)\n",
    "\n",
    "plt.figure(figsize=(15, 7))\n",
    "plt.subplot(211)\n",
    "plt.title(\"Loss\")\n",
    "plt.plot(loss_history)\n",
    "plt.subplot(212)\n",
    "plt.title(\"Train/validation accuracy\")\n",
    "plt.plot(train_history)\n",
    "plt.plot(val_history)"
   ]
  },
  {
   "cell_type": "markdown",
   "metadata": {},
   "source": [
    "# Как обычно, посмотрим, как наша лучшая модель работает на тестовых данных"
   ]
  },
  {
   "cell_type": "code",
   "execution_count": 20,
   "metadata": {},
   "outputs": [
    {
     "name": "stdout",
     "output_type": "stream",
     "text": [
      "Neural net test set accuracy: 0.062000\n"
     ]
    }
   ],
   "source": [
    "test_pred = best_classifier.predict(test_X)\n",
    "test_accuracy = multiclass_accuracy(test_pred, test_y)\n",
    "print('Neural net test set accuracy: %f' % (test_accuracy, ))"
   ]
  },
  {
   "cell_type": "code",
   "execution_count": 8,
   "metadata": {},
   "outputs": [
    {
     "name": "stdout",
     "output_type": "stream",
     "text": [
      "best validation accuracy achieved: 0.735000\n",
      "Neural net test set accuracy: 0.677000\n"
     ]
    },
    {
     "data": {
      "text/plain": [
       "[<matplotlib.lines.Line2D at 0x16e83c77760>]"
      ]
     },
     "execution_count": 8,
     "metadata": {},
     "output_type": "execute_result"
    },
    {
     "data": {
      "image/png": "[encoded data removed]",
      "text/plain": [
       "<Figure size 1080x504 with 2 Axes>"
      ]
     },
     "metadata": {
      "needs_background": "light"
     },
     "output_type": "display_data"
    }
   ],
   "source": [
    "# overfit has been received, let's fix it\n",
    "\n",
    "try_params = [172, 1e-4, 1e-2, 1, 64, 25]\n",
    "\n",
    "dataset = Dataset(train_X, train_y, val_X, val_y)\n",
    "best_classifier = TwoLayerNet(\n",
    "    n_input = train_X.shape[1],\n",
    "    n_output = 10,\n",
    "    hidden_layer_size = try_params[0],\n",
    "    reg = try_params[1]\n",
    ")\n",
    "trainer = Trainer(\n",
    "    best_classifier,\n",
    "    dataset,\n",
    "    MomentumSGD(),\n",
    "    learning_rate=try_params[2],\n",
    "    learning_rate_decay=try_params[3],\n",
    "    batch_size=try_params[4],\n",
    "    num_epochs=try_params[5]\n",
    ")\n",
    "loss_history, train_history, val_history = trainer.fit(False)\n",
    "best_val_accuracy = max(val_history)\n",
    "print('best validation accuracy achieved: %f' % best_val_accuracy)\n",
    "\n",
    "test_pred = best_classifier.predict(test_X)\n",
    "test_accuracy = multiclass_accuracy(test_pred, test_y)\n",
    "print('Neural net test set accuracy: %f' % (test_accuracy, ))\n",
    "\n",
    "plt.figure(figsize=(15, 7))\n",
    "plt.subplot(211)\n",
    "plt.title(\"Loss\")\n",
    "plt.plot(loss_history)\n",
    "plt.subplot(212)\n",
    "plt.title(\"Train/validation accuracy\")\n",
    "plt.plot(train_history)\n",
    "plt.plot(val_history)"
   ]
  }
 ],
 "metadata": {
  "kernelspec": {
   "display_name": "Python 3 (ipykernel)",
   "language": "python",
   "name": "python3"
  },
  "language_info": {
   "codemirror_mode": {
    "name": "ipython",
    "version": 3
   },
   "file_extension": ".py",
   "mimetype": "text/x-python",
   "name": "python",
   "nbconvert_exporter": "python",
   "pygments_lexer": "ipython3",
   "version": "3.9.5"
  }
 },
 "nbformat": 4,
 "nbformat_minor": 2
}
